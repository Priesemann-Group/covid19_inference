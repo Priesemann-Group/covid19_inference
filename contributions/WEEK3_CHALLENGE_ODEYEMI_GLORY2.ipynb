{
  "nbformat": 4,
  "nbformat_minor": 0,
  "metadata": {
    "colab": {
      "name": "WEEK3_CHALLENGE_ODEYEMI_GLORY.ipynb",
      "provenance": [],
      "collapsed_sections": []
    },
    "kernelspec": {
      "name": "python3",
      "display_name": "Python 3"
    }
  },
  "cells": [
    {
      "cell_type": "markdown",
      "metadata": {
        "id": "g73YHWjOXXeh",
        "colab_type": "text"
      },
      "source": [
        "# Week 3 Challenge\n",
        "### Title\n",
        "Change point analysis to quantify the impact of African government policy interventions to slow the spread of COVID-19\n",
        "\n",
        "### Contents\n",
        "* Git repo installation\n",
        "* Importing libraries and modules\n",
        "* Data retrieval from Johns Hops University\n",
        "* Data pre-processing and visualization\n",
        "* Model creation (SIR model)\n",
        "  > The SIR model is used because it can be used to gain better understanding of how the virus spreads within a community of variable populations in time.\n",
        "* MCMC (Markov Chain Monte Carlo) sampling\n",
        "* Plotting\n",
        "  * Distributions\n",
        "  * Timeseries\n",
        "\n",
        "## Task 2\n"
      ]
    },
    {
      "cell_type": "code",
      "metadata": {
        "id": "DcoXFdJPTf8z",
        "colab_type": "code",
        "colab": {
          "base_uri": "https://localhost:8080/",
          "height": 462
        },
        "outputId": "ae8a2db5-49af-4481-f2e7-d62cc825939e"
      },
      "source": [
        " !pip install git+https://github.com/Priesemann-Group/covid19_inference.git"
      ],
      "execution_count": 1,
      "outputs": [
        {
          "output_type": "stream",
          "text": [
            "Collecting git+https://github.com/Priesemann-Group/covid19_inference.git\n",
            "  Cloning https://github.com/Priesemann-Group/covid19_inference.git to /tmp/pip-req-build-ga1htqmd\n",
            "  Running command git clone -q https://github.com/Priesemann-Group/covid19_inference.git /tmp/pip-req-build-ga1htqmd\n",
            "Requirement already satisfied: pymc3 in /usr/local/lib/python3.6/dist-packages (from covid19-inference==0.1.8a0) (3.7)\n",
            "Requirement already satisfied: matplotlib in /usr/local/lib/python3.6/dist-packages (from covid19-inference==0.1.8a0) (3.2.2)\n",
            "Requirement already satisfied: numpy in /usr/local/lib/python3.6/dist-packages (from covid19-inference==0.1.8a0) (1.18.5)\n",
            "Requirement already satisfied: pandas in /usr/local/lib/python3.6/dist-packages (from covid19-inference==0.1.8a0) (1.0.5)\n",
            "Requirement already satisfied: theano in /usr/local/lib/python3.6/dist-packages (from covid19-inference==0.1.8a0) (1.0.5)\n",
            "Requirement already satisfied: patsy>=0.4.0 in /usr/local/lib/python3.6/dist-packages (from pymc3->covid19-inference==0.1.8a0) (0.5.1)\n",
            "Requirement already satisfied: scipy>=0.18.1 in /usr/local/lib/python3.6/dist-packages (from pymc3->covid19-inference==0.1.8a0) (1.4.1)\n",
            "Requirement already satisfied: h5py>=2.7.0 in /usr/local/lib/python3.6/dist-packages (from pymc3->covid19-inference==0.1.8a0) (2.10.0)\n",
            "Requirement already satisfied: tqdm>=4.8.4 in /usr/local/lib/python3.6/dist-packages (from pymc3->covid19-inference==0.1.8a0) (4.41.1)\n",
            "Requirement already satisfied: pyparsing!=2.0.4,!=2.1.2,!=2.1.6,>=2.0.1 in /usr/local/lib/python3.6/dist-packages (from matplotlib->covid19-inference==0.1.8a0) (2.4.7)\n",
            "Requirement already satisfied: kiwisolver>=1.0.1 in /usr/local/lib/python3.6/dist-packages (from matplotlib->covid19-inference==0.1.8a0) (1.2.0)\n",
            "Requirement already satisfied: python-dateutil>=2.1 in /usr/local/lib/python3.6/dist-packages (from matplotlib->covid19-inference==0.1.8a0) (2.8.1)\n",
            "Requirement already satisfied: cycler>=0.10 in /usr/local/lib/python3.6/dist-packages (from matplotlib->covid19-inference==0.1.8a0) (0.10.0)\n",
            "Requirement already satisfied: pytz>=2017.2 in /usr/local/lib/python3.6/dist-packages (from pandas->covid19-inference==0.1.8a0) (2018.9)\n",
            "Requirement already satisfied: six>=1.9.0 in /usr/local/lib/python3.6/dist-packages (from theano->covid19-inference==0.1.8a0) (1.15.0)\n",
            "Building wheels for collected packages: covid19-inference\n",
            "  Building wheel for covid19-inference (setup.py) ... \u001b[?25l\u001b[?25hdone\n",
            "  Created wheel for covid19-inference: filename=covid19_inference-0.1.8a0-cp36-none-any.whl size=103637 sha256=4feca0f783493bb3936a78fe4762c55b79349f5cbfc8c503aed51c05e372b2b9\n",
            "  Stored in directory: /tmp/pip-ephem-wheel-cache-vplsamxp/wheels/da/f1/e7/da56ba4fe019b70927b4bb10088f02f672b31b69fd54a6e613\n",
            "Successfully built covid19-inference\n",
            "Installing collected packages: covid19-inference\n",
            "Successfully installed covid19-inference-0.1.8a0\n"
          ],
          "name": "stdout"
        }
      ]
    },
    {
      "cell_type": "code",
      "metadata": {
        "id": "2u7DadaiX0TY",
        "colab_type": "code",
        "colab": {}
      },
      "source": [
        "#import the necessary library\n",
        "from google.colab import files\n",
        "import datetime\n",
        "import time as time_module\n",
        "import sys\n",
        "import pandas as pd\n",
        "import numpy as np\n",
        "import matplotlib as mpl\n",
        "import matplotlib.pyplot as plt\n",
        "import scipy.stats\n",
        "import theano\n",
        "import theano.tensor as tt\n",
        "import pymc3 as pm\n",
        "import pickle"
      ],
      "execution_count": 2,
      "outputs": []
    },
    {
      "cell_type": "code",
      "metadata": {
        "id": "w3sofLgjX5S5",
        "colab_type": "code",
        "colab": {}
      },
      "source": [
        "#import the module!\n",
        "try:\n",
        "    import covid19_inference as cov19\n",
        "except ModuleNotFoundError:\n",
        "    sys.path.append(\"../../\")\n",
        "    import covid19_inference as cov19"
      ],
      "execution_count": 3,
      "outputs": []
    },
    {
      "cell_type": "markdown",
      "metadata": {
        "id": "OahgZ3X8YCsG",
        "colab_type": "text"
      },
      "source": [
        "### Task 2.1\n",
        "**Question a:** Downloading the COVID19 case data for South Africa\n"
      ]
    },
    {
      "cell_type": "code",
      "metadata": {
        "id": "-37k1egTYAQT",
        "colab_type": "code",
        "colab": {
          "base_uri": "https://localhost:8080/",
          "height": 71
        },
        "outputId": "37902267-c7c7-4312-cbb7-2b6d3d518d36"
      },
      "source": [
        "# Downloading the dataset\n",
        "jhu = cov19.data_retrieval.JHU() \n",
        "jhu.download_all_available_data()"
      ],
      "execution_count": 4,
      "outputs": [
        {
          "output_type": "stream",
          "text": [
            "INFO     [covid19_inference.data_retrieval._JHU] Successfully downloaded new files.\n",
            "INFO     [covid19_inference.data_retrieval._JHU] Local backup to ['/tmp/covid19_data/Jhu_confirmed.csv.gz', '/tmp/covid19_data/Jhu_deaths.csv.gz', '/tmp/covid19_data/Jhu_recovered.csv.gz'] successful.\n"
          ],
          "name": "stderr"
        }
      ]
    },
    {
      "cell_type": "code",
      "metadata": {
        "id": "wuvgn1yGYlZb",
        "colab_type": "code",
        "colab": {
          "base_uri": "https://localhost:8080/",
          "height": 294
        },
        "outputId": "6e0e5a90-accd-4774-dc89-8e155b5e027b"
      },
      "source": [
        "#Retrieving the data for south africa\n",
        "dfsouth= jhu.confirmed['South Africa']\n",
        "\n",
        "#visualizing the data\n",
        "dfsouth.plot()\n",
        "\n",
        "#saving the figure\n",
        "plt.savefig('sadata.png')\n",
        "files.download('sadata.png')"
      ],
      "execution_count": 5,
      "outputs": [
        {
          "output_type": "stream",
          "text": [
            "INFO     [numexpr.utils] NumExpr defaulting to 2 threads.\n"
          ],
          "name": "stderr"
        },
        {
          "output_type": "display_data",
          "data": {
            "application/javascript": [
              "\n",
              "    async function download(id, filename, size) {\n",
              "      if (!google.colab.kernel.accessAllowed) {\n",
              "        return;\n",
              "      }\n",
              "      const div = document.createElement('div');\n",
              "      const label = document.createElement('label');\n",
              "      label.textContent = `Downloading \"${filename}\": `;\n",
              "      div.appendChild(label);\n",
              "      const progress = document.createElement('progress');\n",
              "      progress.max = size;\n",
              "      div.appendChild(progress);\n",
              "      document.body.appendChild(div);\n",
              "\n",
              "      const buffers = [];\n",
              "      let downloaded = 0;\n",
              "\n",
              "      const channel = await google.colab.kernel.comms.open(id);\n",
              "      // Send a message to notify the kernel that we're ready.\n",
              "      channel.send({})\n",
              "\n",
              "      for await (const message of channel.messages) {\n",
              "        // Send a message to notify the kernel that we're ready.\n",
              "        channel.send({})\n",
              "        if (message.buffers) {\n",
              "          for (const buffer of message.buffers) {\n",
              "            buffers.push(buffer);\n",
              "            downloaded += buffer.byteLength;\n",
              "            progress.value = downloaded;\n",
              "          }\n",
              "        }\n",
              "      }\n",
              "      const blob = new Blob(buffers, {type: 'application/binary'});\n",
              "      const a = document.createElement('a');\n",
              "      a.href = window.URL.createObjectURL(blob);\n",
              "      a.download = filename;\n",
              "      div.appendChild(a);\n",
              "      a.click();\n",
              "      div.remove();\n",
              "    }\n",
              "  "
            ],
            "text/plain": [
              "<IPython.core.display.Javascript object>"
            ]
          },
          "metadata": {
            "tags": []
          }
        },
        {
          "output_type": "display_data",
          "data": {
            "application/javascript": [
              "download(\"download_5f1fe8da-e7f9-483b-a38f-e91f6f8ad11a\", \"sadata.png\", 12538)"
            ],
            "text/plain": [
              "<IPython.core.display.Javascript object>"
            ]
          },
          "metadata": {
            "tags": []
          }
        },
        {
          "output_type": "display_data",
          "data": {
            "image/png": "[encoded data removed]",
            "text/plain": [
              "<Figure size 432x288 with 1 Axes>"
            ]
          },
          "metadata": {
            "tags": [],
            "needs_background": "light"
          }
        }
      ]
    },
    {
      "cell_type": "code",
      "metadata": {
        "id": "nkMQreXMYsSj",
        "colab_type": "code",
        "colab": {
          "base_uri": "https://localhost:8080/",
          "height": 419
        },
        "outputId": "d036cdde-d781-43c8-f902-30bd35aabd84"
      },
      "source": [
        "#changing the column name to 'value'\n",
        "dfsouth.columns = ['value']\n",
        "dfsouth"
      ],
      "execution_count": 6,
      "outputs": [
        {
          "output_type": "execute_result",
          "data": {
            "text/html": [
              "<div>\n",
              "<style scoped>\n",
              "    .dataframe tbody tr th:only-of-type {\n",
              "        vertical-align: middle;\n",
              "    }\n",
              "\n",
              "    .dataframe tbody tr th {\n",
              "        vertical-align: top;\n",
              "    }\n",
              "\n",
              "    .dataframe thead th {\n",
              "        text-align: right;\n",
              "    }\n",
              "</style>\n",
              "<table border=\"1\" class=\"dataframe\">\n",
              "  <thead>\n",
              "    <tr style=\"text-align: right;\">\n",
              "      <th></th>\n",
              "      <th>value</th>\n",
              "    </tr>\n",
              "  </thead>\n",
              "  <tbody>\n",
              "    <tr>\n",
              "      <th>2020-01-22</th>\n",
              "      <td>0</td>\n",
              "    </tr>\n",
              "    <tr>\n",
              "      <th>2020-01-23</th>\n",
              "      <td>0</td>\n",
              "    </tr>\n",
              "    <tr>\n",
              "      <th>2020-01-24</th>\n",
              "      <td>0</td>\n",
              "    </tr>\n",
              "    <tr>\n",
              "      <th>2020-01-25</th>\n",
              "      <td>0</td>\n",
              "    </tr>\n",
              "    <tr>\n",
              "      <th>2020-01-26</th>\n",
              "      <td>0</td>\n",
              "    </tr>\n",
              "    <tr>\n",
              "      <th>...</th>\n",
              "      <td>...</td>\n",
              "    </tr>\n",
              "    <tr>\n",
              "      <th>2020-08-03</th>\n",
              "      <td>516862</td>\n",
              "    </tr>\n",
              "    <tr>\n",
              "      <th>2020-08-04</th>\n",
              "      <td>521318</td>\n",
              "    </tr>\n",
              "    <tr>\n",
              "      <th>2020-08-05</th>\n",
              "      <td>529877</td>\n",
              "    </tr>\n",
              "    <tr>\n",
              "      <th>2020-08-06</th>\n",
              "      <td>538184</td>\n",
              "    </tr>\n",
              "    <tr>\n",
              "      <th>2020-08-07</th>\n",
              "      <td>545476</td>\n",
              "    </tr>\n",
              "  </tbody>\n",
              "</table>\n",
              "<p>199 rows × 1 columns</p>\n",
              "</div>"
            ],
            "text/plain": [
              "             value\n",
              "2020-01-22       0\n",
              "2020-01-23       0\n",
              "2020-01-24       0\n",
              "2020-01-25       0\n",
              "2020-01-26       0\n",
              "...            ...\n",
              "2020-08-03  516862\n",
              "2020-08-04  521318\n",
              "2020-08-05  529877\n",
              "2020-08-06  538184\n",
              "2020-08-07  545476\n",
              "\n",
              "[199 rows x 1 columns]"
            ]
          },
          "metadata": {
            "tags": []
          },
          "execution_count": 6
        }
      ]
    },
    {
      "cell_type": "markdown",
      "metadata": {
        "id": "jj0sNoMHYyiE",
        "colab_type": "text"
      },
      "source": [
        "**Question b:** Pre-processing the downloaded data"
      ]
    },
    {
      "cell_type": "code",
      "metadata": {
        "id": "wZslCbohYwcz",
        "colab_type": "code",
        "colab": {
          "base_uri": "https://localhost:8080/",
          "height": 419
        },
        "outputId": "375a28c5-8ac5-40a5-e155-d7387cc7276e"
      },
      "source": [
        "\"\"\"pre-processing the data to make the starting date of the data \n",
        "is when the number of covid19 cases reaches 100\"\"\"\n",
        "dfsouth = dfsouth[dfsouth['value']>100]\n",
        "dfsouth"
      ],
      "execution_count": 7,
      "outputs": [
        {
          "output_type": "execute_result",
          "data": {
            "text/html": [
              "<div>\n",
              "<style scoped>\n",
              "    .dataframe tbody tr th:only-of-type {\n",
              "        vertical-align: middle;\n",
              "    }\n",
              "\n",
              "    .dataframe tbody tr th {\n",
              "        vertical-align: top;\n",
              "    }\n",
              "\n",
              "    .dataframe thead th {\n",
              "        text-align: right;\n",
              "    }\n",
              "</style>\n",
              "<table border=\"1\" class=\"dataframe\">\n",
              "  <thead>\n",
              "    <tr style=\"text-align: right;\">\n",
              "      <th></th>\n",
              "      <th>value</th>\n",
              "    </tr>\n",
              "  </thead>\n",
              "  <tbody>\n",
              "    <tr>\n",
              "      <th>2020-03-18</th>\n",
              "      <td>116</td>\n",
              "    </tr>\n",
              "    <tr>\n",
              "      <th>2020-03-19</th>\n",
              "      <td>150</td>\n",
              "    </tr>\n",
              "    <tr>\n",
              "      <th>2020-03-20</th>\n",
              "      <td>202</td>\n",
              "    </tr>\n",
              "    <tr>\n",
              "      <th>2020-03-21</th>\n",
              "      <td>240</td>\n",
              "    </tr>\n",
              "    <tr>\n",
              "      <th>2020-03-22</th>\n",
              "      <td>274</td>\n",
              "    </tr>\n",
              "    <tr>\n",
              "      <th>...</th>\n",
              "      <td>...</td>\n",
              "    </tr>\n",
              "    <tr>\n",
              "      <th>2020-08-03</th>\n",
              "      <td>516862</td>\n",
              "    </tr>\n",
              "    <tr>\n",
              "      <th>2020-08-04</th>\n",
              "      <td>521318</td>\n",
              "    </tr>\n",
              "    <tr>\n",
              "      <th>2020-08-05</th>\n",
              "      <td>529877</td>\n",
              "    </tr>\n",
              "    <tr>\n",
              "      <th>2020-08-06</th>\n",
              "      <td>538184</td>\n",
              "    </tr>\n",
              "    <tr>\n",
              "      <th>2020-08-07</th>\n",
              "      <td>545476</td>\n",
              "    </tr>\n",
              "  </tbody>\n",
              "</table>\n",
              "<p>143 rows × 1 columns</p>\n",
              "</div>"
            ],
            "text/plain": [
              "             value\n",
              "2020-03-18     116\n",
              "2020-03-19     150\n",
              "2020-03-20     202\n",
              "2020-03-21     240\n",
              "2020-03-22     274\n",
              "...            ...\n",
              "2020-08-03  516862\n",
              "2020-08-04  521318\n",
              "2020-08-05  529877\n",
              "2020-08-06  538184\n",
              "2020-08-07  545476\n",
              "\n",
              "[143 rows x 1 columns]"
            ]
          },
          "metadata": {
            "tags": []
          },
          "execution_count": 7
        }
      ]
    },
    {
      "cell_type": "markdown",
      "metadata": {
        "id": "F9wfPTfmY98Y",
        "colab_type": "text"
      },
      "source": [
        "**Question c:** Checking for NaN values"
      ]
    },
    {
      "cell_type": "code",
      "metadata": {
        "id": "I_8n9f6yY8X8",
        "colab_type": "code",
        "colab": {
          "base_uri": "https://localhost:8080/",
          "height": 51
        },
        "outputId": "2c361aa6-0720-4a98-e018-75cd26206500"
      },
      "source": [
        "#checking for null values\n",
        "dfsouth.isnull().sum()"
      ],
      "execution_count": 8,
      "outputs": [
        {
          "output_type": "execute_result",
          "data": {
            "text/plain": [
              "value    0\n",
              "dtype: int64"
            ]
          },
          "metadata": {
            "tags": []
          },
          "execution_count": 8
        }
      ]
    },
    {
      "cell_type": "code",
      "metadata": {
        "id": "a2nwb5GeZG30",
        "colab_type": "code",
        "colab": {}
      },
      "source": [
        "#setting the start date and end date\n",
        "bd = datetime.datetime(2020, 3, 18)  # For the date filter\n",
        "ed = datetime.datetime.now()\n",
        "\n",
        "#ed = datetime.datetime(2020, 8, 5)"
      ],
      "execution_count": 9,
      "outputs": []
    },
    {
      "cell_type": "code",
      "metadata": {
        "id": "G5-YfcfUZRc-",
        "colab_type": "code",
        "colab": {
          "base_uri": "https://localhost:8080/",
          "height": 537
        },
        "outputId": "069b9c18-d001-4b30-dcf9-447250c57a2f"
      },
      "source": [
        "#getting the total cases and new cases\n",
        "total_cases_obs = dfsouth\n",
        "total_cases_obs.plot() #visualization\n",
        "#saving the figure\n",
        "plt.savefig('total.png')\n",
        "files.download('total.png')\n",
        "plt.show()\n",
        "\n",
        "new_cases_obs = dfsouth - dfsouth.shift(1)\n",
        "new_cases_obs.plot() #visualization\n",
        "#saving the figure\n",
        "plt.savefig('new.png')\n",
        "files.download('new.png')\n",
        "plt.show()"
      ],
      "execution_count": 10,
      "outputs": [
        {
          "output_type": "display_data",
          "data": {
            "application/javascript": [
              "\n",
              "    async function download(id, filename, size) {\n",
              "      if (!google.colab.kernel.accessAllowed) {\n",
              "        return;\n",
              "      }\n",
              "      const div = document.createElement('div');\n",
              "      const label = document.createElement('label');\n",
              "      label.textContent = `Downloading \"${filename}\": `;\n",
              "      div.appendChild(label);\n",
              "      const progress = document.createElement('progress');\n",
              "      progress.max = size;\n",
              "      div.appendChild(progress);\n",
              "      document.body.appendChild(div);\n",
              "\n",
              "      const buffers = [];\n",
              "      let downloaded = 0;\n",
              "\n",
              "      const channel = await google.colab.kernel.comms.open(id);\n",
              "      // Send a message to notify the kernel that we're ready.\n",
              "      channel.send({})\n",
              "\n",
              "      for await (const message of channel.messages) {\n",
              "        // Send a message to notify the kernel that we're ready.\n",
              "        channel.send({})\n",
              "        if (message.buffers) {\n",
              "          for (const buffer of message.buffers) {\n",
              "            buffers.push(buffer);\n",
              "            downloaded += buffer.byteLength;\n",
              "            progress.value = downloaded;\n",
              "          }\n",
              "        }\n",
              "      }\n",
              "      const blob = new Blob(buffers, {type: 'application/binary'});\n",
              "      const a = document.createElement('a');\n",
              "      a.href = window.URL.createObjectURL(blob);\n",
              "      a.download = filename;\n",
              "      div.appendChild(a);\n",
              "      a.click();\n",
              "      div.remove();\n",
              "    }\n",
              "  "
            ],
            "text/plain": [
              "<IPython.core.display.Javascript object>"
            ]
          },
          "metadata": {
            "tags": []
          }
        },
        {
          "output_type": "display_data",
          "data": {
            "application/javascript": [
              "download(\"download_80214ae1-a4fa-41fd-9775-405e36ee866a\", \"total.png\", 12292)"
            ],
            "text/plain": [
              "<IPython.core.display.Javascript object>"
            ]
          },
          "metadata": {
            "tags": []
          }
        },
        {
          "output_type": "display_data",
          "data": {
            "image/png": "[encoded data removed]",
            "text/plain": [
              "<Figure size 432x288 with 1 Axes>"
            ]
          },
          "metadata": {
            "tags": [],
            "needs_background": "light"
          }
        },
        {
          "output_type": "display_data",
          "data": {
            "application/javascript": [
              "\n",
              "    async function download(id, filename, size) {\n",
              "      if (!google.colab.kernel.accessAllowed) {\n",
              "        return;\n",
              "      }\n",
              "      const div = document.createElement('div');\n",
              "      const label = document.createElement('label');\n",
              "      label.textContent = `Downloading \"${filename}\": `;\n",
              "      div.appendChild(label);\n",
              "      const progress = document.createElement('progress');\n",
              "      progress.max = size;\n",
              "      div.appendChild(progress);\n",
              "      document.body.appendChild(div);\n",
              "\n",
              "      const buffers = [];\n",
              "      let downloaded = 0;\n",
              "\n",
              "      const channel = await google.colab.kernel.comms.open(id);\n",
              "      // Send a message to notify the kernel that we're ready.\n",
              "      channel.send({})\n",
              "\n",
              "      for await (const message of channel.messages) {\n",
              "        // Send a message to notify the kernel that we're ready.\n",
              "        channel.send({})\n",
              "        if (message.buffers) {\n",
              "          for (const buffer of message.buffers) {\n",
              "            buffers.push(buffer);\n",
              "            downloaded += buffer.byteLength;\n",
              "            progress.value = downloaded;\n",
              "          }\n",
              "        }\n",
              "      }\n",
              "      const blob = new Blob(buffers, {type: 'application/binary'});\n",
              "      const a = document.createElement('a');\n",
              "      a.href = window.URL.createObjectURL(blob);\n",
              "      a.download = filename;\n",
              "      div.appendChild(a);\n",
              "      a.click();\n",
              "      div.remove();\n",
              "    }\n",
              "  "
            ],
            "text/plain": [
              "<IPython.core.display.Javascript object>"
            ]
          },
          "metadata": {
            "tags": []
          }
        },
        {
          "output_type": "display_data",
          "data": {
            "application/javascript": [
              "download(\"download_28677a20-4e99-47f0-a7d4-2fbf5d801cd8\", \"new.png\", 19178)"
            ],
            "text/plain": [
              "<IPython.core.display.Javascript object>"
            ]
          },
          "metadata": {
            "tags": []
          }
        },
        {
          "output_type": "display_data",
          "data": {
            "image/png": "[encoded data removed]",
            "text/plain": [
              "<Figure size 432x288 with 1 Axes>"
            ]
          },
          "metadata": {
            "tags": [],
            "needs_background": "light"
          }
        }
      ]
    },
    {
      "cell_type": "markdown",
      "metadata": {
        "id": "5EPaNVwhZnaD",
        "colab_type": "text"
      },
      "source": [
        "**Question d:** Splitting the data into train and test set  \n",
        "Train data - 18th March to 25th July\n",
        "Test data - 26th July to now"
      ]
    },
    {
      "cell_type": "code",
      "metadata": {
        "id": "4pGB7_tmZzGy",
        "colab_type": "code",
        "colab": {
          "base_uri": "https://localhost:8080/",
          "height": 51
        },
        "outputId": "25302efc-5065-4a8a-9b25-2d8c7742af63"
      },
      "source": [
        "dfsouth.iloc[129]"
      ],
      "execution_count": 11,
      "outputs": [
        {
          "output_type": "execute_result",
          "data": {
            "text/plain": [
              "value    434200\n",
              "Name: 2020-07-25 00:00:00, dtype: int64"
            ]
          },
          "metadata": {
            "tags": []
          },
          "execution_count": 11
        }
      ]
    },
    {
      "cell_type": "code",
      "metadata": {
        "id": "KV6SU6M_Z4TI",
        "colab_type": "code",
        "colab": {}
      },
      "source": [
        "#using slicing to split the data\n",
        "train_set = dfsouth.iloc[:130]\n",
        "test_set = dfsouth.iloc[130:]"
      ],
      "execution_count": 12,
      "outputs": []
    },
    {
      "cell_type": "code",
      "metadata": {
        "id": "fRi2hHtxZ94k",
        "colab_type": "code",
        "colab": {
          "base_uri": "https://localhost:8080/",
          "height": 442
        },
        "outputId": "be746728-9fbd-4331-e09d-2b95208d997d"
      },
      "source": [
        "#displaying the train and test data\n",
        "print(\"Train Set\\n-------------------\\n\",train_set.tail(),\"\\n\")\n",
        "print(\"Test Set\\n--------------------\\n\",test_set)"
      ],
      "execution_count": 13,
      "outputs": [
        {
          "output_type": "stream",
          "text": [
            "Train Set\n",
            "-------------------\n",
            "              value\n",
            "2020-07-21  381798\n",
            "2020-07-22  394948\n",
            "2020-07-23  408052\n",
            "2020-07-24  421996\n",
            "2020-07-25  434200 \n",
            "\n",
            "Test Set\n",
            "--------------------\n",
            "              value\n",
            "2020-07-26  445433\n",
            "2020-07-27  452529\n",
            "2020-07-28  459761\n",
            "2020-07-29  471123\n",
            "2020-07-30  482169\n",
            "2020-07-31  493183\n",
            "2020-08-01  503290\n",
            "2020-08-02  511485\n",
            "2020-08-03  516862\n",
            "2020-08-04  521318\n",
            "2020-08-05  529877\n",
            "2020-08-06  538184\n",
            "2020-08-07  545476\n"
          ],
          "name": "stdout"
        }
      ]
    },
    {
      "cell_type": "code",
      "metadata": {
        "id": "LuvfQ-FhfY-3",
        "colab_type": "code",
        "colab": {
          "base_uri": "https://localhost:8080/",
          "height": 537
        },
        "outputId": "6c95f438-8d57-413d-c8b8-dfebfd68c03d"
      },
      "source": [
        "#getting the new total cases and new cases from the train data\n",
        "total_cases_obs = train_set\n",
        "total_cases_obs.plot() #visualization\n",
        "#saving the figure\n",
        "plt.savefig('totalnew.png')\n",
        "files.download('totalnew.png')\n",
        "plt.show()\n",
        "\n",
        "new_cases_obs = train_set - train_set.shift(1)\n",
        "new_cases_obs.plot() #visualization\n",
        "#saving the figure\n",
        "plt.savefig('new2.png')\n",
        "files.download('new2.png')\n",
        "plt.show()"
      ],
      "execution_count": 14,
      "outputs": [
        {
          "output_type": "display_data",
          "data": {
            "application/javascript": [
              "\n",
              "    async function download(id, filename, size) {\n",
              "      if (!google.colab.kernel.accessAllowed) {\n",
              "        return;\n",
              "      }\n",
              "      const div = document.createElement('div');\n",
              "      const label = document.createElement('label');\n",
              "      label.textContent = `Downloading \"${filename}\": `;\n",
              "      div.appendChild(label);\n",
              "      const progress = document.createElement('progress');\n",
              "      progress.max = size;\n",
              "      div.appendChild(progress);\n",
              "      document.body.appendChild(div);\n",
              "\n",
              "      const buffers = [];\n",
              "      let downloaded = 0;\n",
              "\n",
              "      const channel = await google.colab.kernel.comms.open(id);\n",
              "      // Send a message to notify the kernel that we're ready.\n",
              "      channel.send({})\n",
              "\n",
              "      for await (const message of channel.messages) {\n",
              "        // Send a message to notify the kernel that we're ready.\n",
              "        channel.send({})\n",
              "        if (message.buffers) {\n",
              "          for (const buffer of message.buffers) {\n",
              "            buffers.push(buffer);\n",
              "            downloaded += buffer.byteLength;\n",
              "            progress.value = downloaded;\n",
              "          }\n",
              "        }\n",
              "      }\n",
              "      const blob = new Blob(buffers, {type: 'application/binary'});\n",
              "      const a = document.createElement('a');\n",
              "      a.href = window.URL.createObjectURL(blob);\n",
              "      a.download = filename;\n",
              "      div.appendChild(a);\n",
              "      a.click();\n",
              "      div.remove();\n",
              "    }\n",
              "  "
            ],
            "text/plain": [
              "<IPython.core.display.Javascript object>"
            ]
          },
          "metadata": {
            "tags": []
          }
        },
        {
          "output_type": "display_data",
          "data": {
            "application/javascript": [
              "download(\"download_563d4d21-6eb0-4951-b4fd-fb65061a89eb\", \"totalnew.png\", 11498)"
            ],
            "text/plain": [
              "<IPython.core.display.Javascript object>"
            ]
          },
          "metadata": {
            "tags": []
          }
        },
        {
          "output_type": "display_data",
          "data": {
            "image/png": "[encoded data removed]",
            "text/plain": [
              "<Figure size 432x288 with 1 Axes>"
            ]
          },
          "metadata": {
            "tags": [],
            "needs_background": "light"
          }
        },
        {
          "output_type": "display_data",
          "data": {
            "application/javascript": [
              "\n",
              "    async function download(id, filename, size) {\n",
              "      if (!google.colab.kernel.accessAllowed) {\n",
              "        return;\n",
              "      }\n",
              "      const div = document.createElement('div');\n",
              "      const label = document.createElement('label');\n",
              "      label.textContent = `Downloading \"${filename}\": `;\n",
              "      div.appendChild(label);\n",
              "      const progress = document.createElement('progress');\n",
              "      progress.max = size;\n",
              "      div.appendChild(progress);\n",
              "      document.body.appendChild(div);\n",
              "\n",
              "      const buffers = [];\n",
              "      let downloaded = 0;\n",
              "\n",
              "      const channel = await google.colab.kernel.comms.open(id);\n",
              "      // Send a message to notify the kernel that we're ready.\n",
              "      channel.send({})\n",
              "\n",
              "      for await (const message of channel.messages) {\n",
              "        // Send a message to notify the kernel that we're ready.\n",
              "        channel.send({})\n",
              "        if (message.buffers) {\n",
              "          for (const buffer of message.buffers) {\n",
              "            buffers.push(buffer);\n",
              "            downloaded += buffer.byteLength;\n",
              "            progress.value = downloaded;\n",
              "          }\n",
              "        }\n",
              "      }\n",
              "      const blob = new Blob(buffers, {type: 'application/binary'});\n",
              "      const a = document.createElement('a');\n",
              "      a.href = window.URL.createObjectURL(blob);\n",
              "      a.download = filename;\n",
              "      div.appendChild(a);\n",
              "      a.click();\n",
              "      div.remove();\n",
              "    }\n",
              "  "
            ],
            "text/plain": [
              "<IPython.core.display.Javascript object>"
            ]
          },
          "metadata": {
            "tags": []
          }
        },
        {
          "output_type": "display_data",
          "data": {
            "application/javascript": [
              "download(\"download_f533cc76-3feb-47c4-a0c9-286e8ee1df10\", \"new2.png\", 17486)"
            ],
            "text/plain": [
              "<IPython.core.display.Javascript object>"
            ]
          },
          "metadata": {
            "tags": []
          }
        },
        {
          "output_type": "display_data",
          "data": {
            "image/png": "[encoded data removed]",
            "text/plain": [
              "<Figure size 432x288 with 1 Axes>"
            ]
          },
          "metadata": {
            "tags": [],
            "needs_background": "light"
          }
        }
      ]
    },
    {
      "cell_type": "code",
      "metadata": {
        "id": "U6k_RXdZfkPR",
        "colab_type": "code",
        "colab": {
          "base_uri": "https://localhost:8080/",
          "height": 34
        },
        "outputId": "8c073426-15f6-4185-8b20-0f4c2afcaf94"
      },
      "source": [
        "#changing to a series\n",
        "total_cases_obs = total_cases_obs.T\n",
        "total_cases_obs = total_cases_obs.iloc[0,:]\n",
        "type(total_cases_obs)"
      ],
      "execution_count": 15,
      "outputs": [
        {
          "output_type": "execute_result",
          "data": {
            "text/plain": [
              "pandas.core.series.Series"
            ]
          },
          "metadata": {
            "tags": []
          },
          "execution_count": 15
        }
      ]
    },
    {
      "cell_type": "code",
      "metadata": {
        "id": "lOVnfeBel9Gj",
        "colab_type": "code",
        "colab": {
          "base_uri": "https://localhost:8080/",
          "height": 34
        },
        "outputId": "2a1ca2be-09c3-4663-abce-2fdf1f25aaa6"
      },
      "source": [
        "#changing to a series\n",
        "new_cases_obs = new_cases_obs.T\n",
        "new_cases_obs = new_cases_obs.iloc[0,:]\n",
        "type(new_cases_obs)"
      ],
      "execution_count": 16,
      "outputs": [
        {
          "output_type": "execute_result",
          "data": {
            "text/plain": [
              "pandas.core.series.Series"
            ]
          },
          "metadata": {
            "tags": []
          },
          "execution_count": 16
        }
      ]
    },
    {
      "cell_type": "code",
      "metadata": {
        "id": "_PNn29ThmbPA",
        "colab_type": "code",
        "colab": {
          "base_uri": "https://localhost:8080/",
          "height": 34
        },
        "outputId": "7f0fc474-e55b-45cd-906c-a1db854c7ed7"
      },
      "source": [
        "#checking for null values\n",
        "new_cases_obs.isnull().sum()"
      ],
      "execution_count": 17,
      "outputs": [
        {
          "output_type": "execute_result",
          "data": {
            "text/plain": [
              "1"
            ]
          },
          "metadata": {
            "tags": []
          },
          "execution_count": 17
        }
      ]
    },
    {
      "cell_type": "code",
      "metadata": {
        "id": "qal_v4F2miy6",
        "colab_type": "code",
        "colab": {
          "base_uri": "https://localhost:8080/",
          "height": 221
        },
        "outputId": "4b8ac4cb-0966-4422-bc7c-3ff3af7fc87d"
      },
      "source": [
        "#filling nan value with 0\n",
        "new_cases_obs = new_cases_obs.fillna(0)\n",
        "new_cases_obs"
      ],
      "execution_count": 18,
      "outputs": [
        {
          "output_type": "execute_result",
          "data": {
            "text/plain": [
              "2020-03-18        0.0\n",
              "2020-03-19       34.0\n",
              "2020-03-20       52.0\n",
              "2020-03-21       38.0\n",
              "2020-03-22       34.0\n",
              "               ...   \n",
              "2020-07-21     8170.0\n",
              "2020-07-22    13150.0\n",
              "2020-07-23    13104.0\n",
              "2020-07-24    13944.0\n",
              "2020-07-25    12204.0\n",
              "Name: value, Length: 130, dtype: float64"
            ]
          },
          "metadata": {
            "tags": []
          },
          "execution_count": 18
        }
      ]
    },
    {
      "cell_type": "markdown",
      "metadata": {
        "id": "QRuNAbisaGeC",
        "colab_type": "text"
      },
      "source": [
        "**Question e:** Creating the model"
      ]
    },
    {
      "cell_type": "code",
      "metadata": {
        "id": "h3mWB83KaEoN",
        "colab_type": "code",
        "colab": {}
      },
      "source": [
        "diff_data_sim = 16  # should be significantly larger than the expected delay, in\n",
        "# order to always fit the same number of data points.\n",
        "num_days_forecast = 16 #from 26th july to 10th august"
      ],
      "execution_count": 19,
      "outputs": []
    },
    {
      "cell_type": "markdown",
      "metadata": {
        "id": "Z62GxrknJYB5",
        "colab_type": "text"
      },
      "source": [
        "Changepoints refers to the dates when government introduced non-pharmaceutical policies in response to curbing the spread of the virus within the country. The major changepoints are:\n",
        "\n",
        "* March 26, 2020 - 21 days lockdown was enforced.\n",
        "* July 12, 2020 - Curfew, alcohol ban, and mandatory mask wearing was introduced. \n"
      ]
    },
    {
      "cell_type": "code",
      "metadata": {
        "id": "GQ3bqsK3aQTa",
        "colab_type": "code",
        "colab": {}
      },
      "source": [
        "# We set the priors for the changepoints here\n",
        "#prior_date_mild_dist_begin = datetime.datetime(2020, 3, 9)\n",
        "prior_date_strong_dist_begin = datetime.datetime(2020, 3, 26)\n",
        "prior_date_contact_ban_begin = datetime.datetime(2020, 7, 12)"
      ],
      "execution_count": 20,
      "outputs": []
    },
    {
      "cell_type": "code",
      "metadata": {
        "id": "QJXN7T0vacEN",
        "colab_type": "code",
        "colab": {}
      },
      "source": [
        "change_points = [\n",
        "    dict(\n",
        "        pr_mean_date_transient=prior_date_strong_dist_begin,\n",
        "        pr_sigma_date_transient=1.5,\n",
        "        pr_median_lambda=1 / 8,\n",
        "        pr_sigma_lambda=1,\n",
        "    ),\n",
        "    dict(\n",
        "        pr_mean_date_transient=prior_date_contact_ban_begin,\n",
        "        pr_sigma_date_transient=1.5,\n",
        "        pr_median_lambda=1 / 8 / 2,\n",
        "        pr_sigma_lambda=1,\n",
        "    ),\n",
        "]"
      ],
      "execution_count": 21,
      "outputs": []
    },
    {
      "cell_type": "markdown",
      "metadata": {
        "id": "YS5DchaiCqA6",
        "colab_type": "text"
      },
      "source": [
        "Next, we create the model! There are default values for most of the function arguments, but we will try to explicitly set all kwargs for the sake of this example."
      ]
    },
    {
      "cell_type": "code",
      "metadata": {
        "id": "nApvGN5Xa6rV",
        "colab_type": "code",
        "colab": {}
      },
      "source": [
        "params_model = dict(\n",
        "    new_cases_obs=new_cases_obs[:],\n",
        "    data_begin=bd,\n",
        "    fcast_len=num_days_forecast,\n",
        "    diff_data_sim=diff_data_sim,\n",
        "    N_population=4e6,\n",
        ")\n",
        "# Median of the prior for the delay in case reporting, we assume 10 days\n",
        "pr_delay = 10"
      ],
      "execution_count": 22,
      "outputs": []
    },
    {
      "cell_type": "code",
      "metadata": {
        "id": "rsRqYutma_Hm",
        "colab_type": "code",
        "colab": {
          "base_uri": "https://localhost:8080/",
          "height": 258
        },
        "outputId": "293d6922-d174-4af8-f37f-f62d6b4a09f2"
      },
      "source": [
        "with cov19.model.Cov19Model(**params_model) as this_model:\n",
        "    # Create the an array of the time dependent infection rate lambda\n",
        "    lambda_t_log = cov19.model.lambda_t_with_sigmoids(\n",
        "        pr_median_lambda_0=0.4,\n",
        "        pr_sigma_lambda_0=0.5,\n",
        "        change_points_list=change_points,  # The change point priors we constructed earlier\n",
        "        name_lambda_t=\"lambda_t\",  # Name for the variable in the trace (see later)\n",
        "    )\n",
        "\n",
        "    # set prior distribution for the recovery rate\n",
        "    mu = pm.Lognormal(name=\"mu\", mu=np.log(1 / 8), sigma=0.2)\n",
        "\n",
        "    # This builds a decorrelated prior for I_begin for faster inference.\n",
        "    # It is not necessary to use it, one can simply remove it and use the default argument\n",
        "    # for pr_I_begin in cov19.SIR\n",
        "    prior_I = cov19.model.uncorrelated_prior_I(\n",
        "        lambda_t_log=lambda_t_log,\n",
        "        mu=mu,\n",
        "        pr_median_delay=pr_delay,\n",
        "        name_I_begin=\"I_begin\",\n",
        "        name_I_begin_ratio_log=\"I_begin_ratio_log\",\n",
        "        pr_sigma_I_begin=2,\n",
        "        n_data_points_used=5,\n",
        "    )\n",
        "\n",
        "    # Use lambda_t_log and mu to run the SIR model\n",
        "    new_cases = cov19.model.SIR(\n",
        "        lambda_t_log=lambda_t_log,\n",
        "        mu=mu,\n",
        "        name_new_I_t=\"new_I_t\",\n",
        "        name_I_t=\"I_t\",\n",
        "        name_I_begin=\"I_begin\",\n",
        "        pr_I_begin=prior_I,\n",
        "    )\n",
        "\n",
        "    # Delay the cases by a lognormal reporting delay\n",
        "    new_cases = cov19.model.delay_cases(\n",
        "        cases=new_cases,\n",
        "        name_cases=\"delayed_cases\",\n",
        "        name_delay=\"delay\",\n",
        "        name_width=\"delay-width\",\n",
        "        pr_mean_of_median=pr_delay,\n",
        "        pr_sigma_of_median=0.2,\n",
        "        pr_median_of_width=0.3,\n",
        "    )\n",
        "\n",
        "    # Modulate the inferred cases by a abs(sin(x)) function, to account for weekend effects\n",
        "    # Also adds the \"new_cases\" variable to the trace that has all model features.\n",
        "    new_cases = cov19.model.week_modulation(\n",
        "        cases=new_cases,\n",
        "        name_cases=\"new_cases\",\n",
        "        name_weekend_factor=\"weekend_factor\",\n",
        "        name_offset_modulation=\"offset_modulation\",\n",
        "        week_modulation_type=\"abs_sine\",\n",
        "        pr_mean_weekend_factor=0.3,\n",
        "        pr_sigma_weekend_factor=0.5,\n",
        "        weekend_days=(6, 7),\n",
        "    )\n",
        "\n",
        "    # Define the likelihood, uses the new_cases_obs set as model parameter\n",
        "    cov19.model.student_t_likelihood(new_cases)"
      ],
      "execution_count": 23,
      "outputs": [
        {
          "output_type": "stream",
          "text": [
            "INFO     [covid19_inference.model.spreading_rate] Lambda_t with sigmoids\n",
            "INFO     [covid19_inference.model.model] pr_median_transient_len was set to default value 4\n",
            "INFO     [covid19_inference.model.model] pr_sigma_transient_len was set to default value 0.5\n",
            "INFO     [covid19_inference.model.model] relative_to_previous was set to default value False\n",
            "INFO     [covid19_inference.model.model] pr_factor_to_previous was set to default value 1\n",
            "INFO     [covid19_inference.model.model] pr_median_transient_len was set to default value 4\n",
            "INFO     [covid19_inference.model.model] pr_sigma_transient_len was set to default value 0.5\n",
            "INFO     [covid19_inference.model.model] relative_to_previous was set to default value False\n",
            "INFO     [covid19_inference.model.model] pr_factor_to_previous was set to default value 1\n",
            "INFO     [covid19_inference.model.compartmental_models] Uncorrelated prior_I\n",
            "INFO     [covid19_inference.model.compartmental_models] SIR\n",
            "INFO     [covid19_inference.model.delay] Delaying cases\n",
            "INFO     [covid19_inference.model.week_modulation] Week modulation\n"
          ],
          "name": "stderr"
        }
      ]
    },
    {
      "cell_type": "markdown",
      "metadata": {
        "id": "A3RW3m_2IE8L",
        "colab_type": "text"
      },
      "source": [
        "### MCMC Sampling\n",
        "After the model is built, it is sampled using an MCMC sampler. The number of parallel runs can be set with the argument cores=. The sampling can take a long time."
      ]
    },
    {
      "cell_type": "code",
      "metadata": {
        "id": "AgnVLeuPcA1x",
        "colab_type": "code",
        "colab": {
          "base_uri": "https://localhost:8080/",
          "height": 581
        },
        "outputId": "1f257880-c63e-4ce2-84e5-c0af6553b607"
      },
      "source": [
        "trace = pm.sample(model=this_model, tune=200, draws=250, \n",
        "                  cores=8, init=\"advi+adapt_diag\")\n",
        "\n",
        "#saving the model in a pickle\n",
        "pickle_out = open(\"model.pickle\",\"wb\")\n",
        "pickle.dump(this_model, pickle_out)\n",
        "files.download('model.pickle')\n",
        "pickle_out.close()\n",
        "\n",
        "pickle_out2 = open(\"model2.pickle\",\"wb\")\n",
        "pickle.dump(trace, pickle_out2)\n",
        "files.download('model2.pickle')\n",
        "pickle_out2.close()"
      ],
      "execution_count": 24,
      "outputs": [
        {
          "output_type": "stream",
          "text": [
            "Only 250 samples in chain.\n",
            "WARNING  [pymc3] Only 250 samples in chain.\n",
            "Auto-assigning NUTS sampler...\n",
            "INFO     [pymc3] Auto-assigning NUTS sampler...\n",
            "Initializing NUTS using advi+adapt_diag...\n",
            "INFO     [pymc3] Initializing NUTS using advi+adapt_diag...\n",
            "WARNING (theano.tensor.blas): We did not find a dynamic library in the library_dir of the library we use for blas. If you use ATLAS, make sure to compile it with dynamics library.\n",
            "WARNING  [theano.tensor.blas] We did not find a dynamic library in the library_dir of the library we use for blas. If you use ATLAS, make sure to compile it with dynamics library.\n",
            "WARNING (theano.tensor.blas): We did not find a dynamic library in the library_dir of the library we use for blas. If you use ATLAS, make sure to compile it with dynamics library.\n",
            "WARNING  [theano.tensor.blas] We did not find a dynamic library in the library_dir of the library we use for blas. If you use ATLAS, make sure to compile it with dynamics library.\n",
            "Average Loss = 958.19:  21%|██        | 41397/200000 [07:30<28:46, 91.87it/s] \n",
            "Convergence achieved at 41400\n",
            "INFO     [pymc3.variational.inference] Convergence achieved at 41400\n",
            "Interrupted at 41,399 [20%]: Average Loss = 1,190.8\n",
            "INFO     [pymc3.variational.inference] Interrupted at 41,399 [20%]: Average Loss = 1,190.8\n",
            "Multiprocess sampling (8 chains in 8 jobs)\n",
            "INFO     [pymc3] Multiprocess sampling (8 chains in 8 jobs)\n",
            "NUTS: [sigma_obs, offset_modulation_rad, weekend_factor_log, delay_log, I_begin_ratio_log, mu, transient_len_2_log_, transient_len_1_log_, transient_day_2, transient_day_1, lambda_2_log_, lambda_1_log_, lambda_0_log_]\n",
            "INFO     [pymc3] NUTS: [sigma_obs, offset_modulation_rad, weekend_factor_log, delay_log, I_begin_ratio_log, mu, transient_len_2_log_, transient_len_1_log_, transient_day_2, transient_day_1, lambda_2_log_, lambda_1_log_, lambda_0_log_]\n",
            "Sampling 8 chains: 100%|██████████| 3600/3600 [5:41:57<00:00,  5.70s/draws]\n",
            "The acceptance probability does not match the target. It is 0.9109284633568401, but should be close to 0.8. Try to increase the number of tuning steps.\n",
            "WARNING  [pymc3] The acceptance probability does not match the target. It is 0.9109284633568401, but should be close to 0.8. Try to increase the number of tuning steps.\n",
            "The chain reached the maximum tree depth. Increase max_treedepth, increase target_accept or reparameterize.\n",
            "WARNING  [pymc3] The chain reached the maximum tree depth. Increase max_treedepth, increase target_accept or reparameterize.\n",
            "The acceptance probability does not match the target. It is 0.7134343471840683, but should be close to 0.8. Try to increase the number of tuning steps.\n",
            "WARNING  [pymc3] The acceptance probability does not match the target. It is 0.7134343471840683, but should be close to 0.8. Try to increase the number of tuning steps.\n",
            "The acceptance probability does not match the target. It is 0.9125647576599194, but should be close to 0.8. Try to increase the number of tuning steps.\n",
            "WARNING  [pymc3] The acceptance probability does not match the target. It is 0.9125647576599194, but should be close to 0.8. Try to increase the number of tuning steps.\n",
            "The chain reached the maximum tree depth. Increase max_treedepth, increase target_accept or reparameterize.\n",
            "WARNING  [pymc3] The chain reached the maximum tree depth. Increase max_treedepth, increase target_accept or reparameterize.\n",
            "The number of effective samples is smaller than 25% for some parameters.\n",
            "INFO     [pymc3] The number of effective samples is smaller than 25% for some parameters.\n"
          ],
          "name": "stderr"
        },
        {
          "output_type": "display_data",
          "data": {
            "application/javascript": [
              "\n",
              "    async function download(id, filename, size) {\n",
              "      if (!google.colab.kernel.accessAllowed) {\n",
              "        return;\n",
              "      }\n",
              "      const div = document.createElement('div');\n",
              "      const label = document.createElement('label');\n",
              "      label.textContent = `Downloading \"${filename}\": `;\n",
              "      div.appendChild(label);\n",
              "      const progress = document.createElement('progress');\n",
              "      progress.max = size;\n",
              "      div.appendChild(progress);\n",
              "      document.body.appendChild(div);\n",
              "\n",
              "      const buffers = [];\n",
              "      let downloaded = 0;\n",
              "\n",
              "      const channel = await google.colab.kernel.comms.open(id);\n",
              "      // Send a message to notify the kernel that we're ready.\n",
              "      channel.send({})\n",
              "\n",
              "      for await (const message of channel.messages) {\n",
              "        // Send a message to notify the kernel that we're ready.\n",
              "        channel.send({})\n",
              "        if (message.buffers) {\n",
              "          for (const buffer of message.buffers) {\n",
              "            buffers.push(buffer);\n",
              "            downloaded += buffer.byteLength;\n",
              "            progress.value = downloaded;\n",
              "          }\n",
              "        }\n",
              "      }\n",
              "      const blob = new Blob(buffers, {type: 'application/binary'});\n",
              "      const a = document.createElement('a');\n",
              "      a.href = window.URL.createObjectURL(blob);\n",
              "      a.download = filename;\n",
              "      div.appendChild(a);\n",
              "      a.click();\n",
              "      div.remove();\n",
              "    }\n",
              "  "
            ],
            "text/plain": [
              "<IPython.core.display.Javascript object>"
            ]
          },
          "metadata": {
            "tags": []
          }
        },
        {
          "output_type": "display_data",
          "data": {
            "application/javascript": [
              "download(\"download_b83a469d-968b-4b67-877c-063bba6c85d7\", \"model.pickle\", 4253989)"
            ],
            "text/plain": [
              "<IPython.core.display.Javascript object>"
            ]
          },
          "metadata": {
            "tags": []
          }
        },
        {
          "output_type": "display_data",
          "data": {
            "application/javascript": [
              "\n",
              "    async function download(id, filename, size) {\n",
              "      if (!google.colab.kernel.accessAllowed) {\n",
              "        return;\n",
              "      }\n",
              "      const div = document.createElement('div');\n",
              "      const label = document.createElement('label');\n",
              "      label.textContent = `Downloading \"${filename}\": `;\n",
              "      div.appendChild(label);\n",
              "      const progress = document.createElement('progress');\n",
              "      progress.max = size;\n",
              "      div.appendChild(progress);\n",
              "      document.body.appendChild(div);\n",
              "\n",
              "      const buffers = [];\n",
              "      let downloaded = 0;\n",
              "\n",
              "      const channel = await google.colab.kernel.comms.open(id);\n",
              "      // Send a message to notify the kernel that we're ready.\n",
              "      channel.send({})\n",
              "\n",
              "      for await (const message of channel.messages) {\n",
              "        // Send a message to notify the kernel that we're ready.\n",
              "        channel.send({})\n",
              "        if (message.buffers) {\n",
              "          for (const buffer of message.buffers) {\n",
              "            buffers.push(buffer);\n",
              "            downloaded += buffer.byteLength;\n",
              "            progress.value = downloaded;\n",
              "          }\n",
              "        }\n",
              "      }\n",
              "      const blob = new Blob(buffers, {type: 'application/binary'});\n",
              "      const a = document.createElement('a');\n",
              "      a.href = window.URL.createObjectURL(blob);\n",
              "      a.download = filename;\n",
              "      div.appendChild(a);\n",
              "      a.click();\n",
              "      div.remove();\n",
              "    }\n",
              "  "
            ],
            "text/plain": [
              "<IPython.core.display.Javascript object>"
            ]
          },
          "metadata": {
            "tags": []
          }
        },
        {
          "output_type": "display_data",
          "data": {
            "application/javascript": [
              "download(\"download_40668081-440f-47db-b324-9419aa8588a3\", \"model2.pickle\", 26549874)"
            ],
            "text/plain": [
              "<IPython.core.display.Javascript object>"
            ]
          },
          "metadata": {
            "tags": []
          }
        }
      ]
    },
    {
      "cell_type": "markdown",
      "metadata": {
        "id": "QVHkobyeAL6n",
        "colab_type": "text"
      },
      "source": [
        "### Plotting\n",
        "#### Distributions"
      ]
    },
    {
      "cell_type": "code",
      "metadata": {
        "id": "ZQgmEBYeAcwO",
        "colab_type": "code",
        "colab": {
          "base_uri": "https://localhost:8080/",
          "height": 454
        },
        "outputId": "6b5c6d5a-55bf-46bf-8b8f-8df248fe6945"
      },
      "source": [
        "fig, axes = plt.subplots(6, 3, figsize=(6, 6.4))\n",
        "varnames = this_model.untransformed_freeRVs\n",
        "print(\"Possible varnames are :\")\n",
        "print(varnames)"
      ],
      "execution_count": 25,
      "outputs": [
        {
          "output_type": "stream",
          "text": [
            "Possible varnames are :\n",
            "['lambda_0_log_', 'lambda_1_log_', 'lambda_2_log_', 'transient_day_1', 'transient_day_2', 'transient_len_1_log_', 'transient_len_2_log_', 'mu', 'I_begin_ratio_log', 'delay_log', 'weekend_factor_log', 'offset_modulation_rad_circular__', 'sigma_obs']\n"
          ],
          "name": "stdout"
        },
        {
          "output_type": "display_data",
          "data": {
            "image/png": "[encoded data removed]",
            "text/plain": [
              "<Figure size 432x460.8 with 18 Axes>"
            ]
          },
          "metadata": {
            "tags": [],
            "needs_background": "light"
          }
        }
      ]
    },
    {
      "cell_type": "code",
      "metadata": {
        "id": "Ezb8wM4GA9Uf",
        "colab_type": "code",
        "colab": {}
      },
      "source": [
        "for i, key in enumerate(\n",
        "    # left column\n",
        "    [\"weekend_factor\", \"mu\", \"lambda_0\", \"lambda_1\", \"lambda_2\"]\n",
        "):\n",
        "    cov19.plot._distribution(this_model, trace, key, ax=axes[i, 0])"
      ],
      "execution_count": 26,
      "outputs": []
    },
    {
      "cell_type": "code",
      "metadata": {
        "id": "LnqpRtggBAX3",
        "colab_type": "code",
        "colab": {}
      },
      "source": [
        "for i, key in enumerate(\n",
        "    # mid column\n",
        "    [\n",
        "        \"offset_modulation\",\n",
        "        \"sigma_obs\",\n",
        "        \"I_begin\",\n",
        "        \"transient_day_1\",\n",
        "        \"transient_day_2\",\n",
        "    ]\n",
        "):\n",
        "    cov19.plot._distribution(this_model, trace, key, ax=axes[i, 1])"
      ],
      "execution_count": 27,
      "outputs": []
    },
    {
      "cell_type": "code",
      "metadata": {
        "id": "TuWxJfqqBDrK",
        "colab_type": "code",
        "colab": {}
      },
      "source": [
        "for i, key in enumerate(\n",
        "    # right column\n",
        "    [\"delay\", \"transient_len_1\", \"transient_len_2\",]\n",
        "):\n",
        "    cov19.plot._distribution(this_model, trace, key, ax=axes[i + 2, 2])"
      ],
      "execution_count": 28,
      "outputs": []
    },
    {
      "cell_type": "code",
      "metadata": {
        "id": "gaUTmxc_BFpa",
        "colab_type": "code",
        "colab": {
          "base_uri": "https://localhost:8080/",
          "height": 470
        },
        "outputId": "18196dd3-13d4-447e-c9a4-ae7afc1cd842"
      },
      "source": [
        "fig.tight_layout()\n",
        "fig #To print in jupyter notebook"
      ],
      "execution_count": 29,
      "outputs": [
        {
          "output_type": "execute_result",
          "data": {
            "image/png": "[encoded data removed]",
            "text/plain": [
              "<Figure size 432x460.8 with 18 Axes>"
            ]
          },
          "metadata": {
            "tags": []
          },
          "execution_count": 29
        }
      ]
    },
    {
      "cell_type": "markdown",
      "metadata": {
        "id": "BSDVkVzzBiqh",
        "colab_type": "text"
      },
      "source": [
        "### Time Series\n",
        "Time series overview, for now needs an offset variable to get cummulative cases."
      ]
    },
    {
      "cell_type": "code",
      "metadata": {
        "id": "0ImolsnqBwlX",
        "colab_type": "code",
        "colab": {
          "base_uri": "https://localhost:8080/",
          "height": 492
        },
        "outputId": "6a19d72d-4357-41f5-d97a-f4c34c218325"
      },
      "source": [
        "fig, axes = cov19.plot.timeseries_overview(this_model, trace, \n",
        "                                           offset=total_cases_obs[0])\n",
        "#saving the figure\n",
        "plt.savefig('timeseries.png')\n",
        "files.download('timeseries.png')"
      ],
      "execution_count": 30,
      "outputs": [
        {
          "output_type": "display_data",
          "data": {
            "application/javascript": [
              "\n",
              "    async function download(id, filename, size) {\n",
              "      if (!google.colab.kernel.accessAllowed) {\n",
              "        return;\n",
              "      }\n",
              "      const div = document.createElement('div');\n",
              "      const label = document.createElement('label');\n",
              "      label.textContent = `Downloading \"${filename}\": `;\n",
              "      div.appendChild(label);\n",
              "      const progress = document.createElement('progress');\n",
              "      progress.max = size;\n",
              "      div.appendChild(progress);\n",
              "      document.body.appendChild(div);\n",
              "\n",
              "      const buffers = [];\n",
              "      let downloaded = 0;\n",
              "\n",
              "      const channel = await google.colab.kernel.comms.open(id);\n",
              "      // Send a message to notify the kernel that we're ready.\n",
              "      channel.send({})\n",
              "\n",
              "      for await (const message of channel.messages) {\n",
              "        // Send a message to notify the kernel that we're ready.\n",
              "        channel.send({})\n",
              "        if (message.buffers) {\n",
              "          for (const buffer of message.buffers) {\n",
              "            buffers.push(buffer);\n",
              "            downloaded += buffer.byteLength;\n",
              "            progress.value = downloaded;\n",
              "          }\n",
              "        }\n",
              "      }\n",
              "      const blob = new Blob(buffers, {type: 'application/binary'});\n",
              "      const a = document.createElement('a');\n",
              "      a.href = window.URL.createObjectURL(blob);\n",
              "      a.download = filename;\n",
              "      div.appendChild(a);\n",
              "      a.click();\n",
              "      div.remove();\n",
              "    }\n",
              "  "
            ],
            "text/plain": [
              "<IPython.core.display.Javascript object>"
            ]
          },
          "metadata": {
            "tags": []
          }
        },
        {
          "output_type": "display_data",
          "data": {
            "application/javascript": [
              "download(\"download_7467dc4a-a908-44aa-8083-e66799de437d\", \"timeseries.png\", 41544)"
            ],
            "text/plain": [
              "<IPython.core.display.Javascript object>"
            ]
          },
          "metadata": {
            "tags": []
          }
        },
        {
          "output_type": "display_data",
          "data": {
            "image/png": "[encoded data removed]",
            "text/plain": [
              "<Figure size 432x432 with 3 Axes>"
            ]
          },
          "metadata": {
            "tags": [],
            "needs_background": "light"
          }
        }
      ]
    }
  ]
}