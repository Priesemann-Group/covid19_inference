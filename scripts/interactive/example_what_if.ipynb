{
 "cells": [
  {
   "cell_type": "markdown",
   "metadata": {},
   "source": [
    "[![Open In Colab](https://colab.research.google.com/assets/colab-badge.svg)](https://colab.research.google.com/github/Priesemann-Group/covid19_inference/blob/pymc4/scripts/interactive/example_what_if.ipynb)"
   ]
  },
  {
   "cell_type": "code",
   "execution_count": 1,
   "metadata": {},
   "outputs": [],
   "source": [
    "#optional (if not cloned i.e. running in colab)\n",
    "# !pip install covid19_inference"
   ]
  },
  {
   "cell_type": "markdown",
   "metadata": {},
   "source": [
    "\n",
    "\n",
    "# Example: What-if scenarios\n",
    "Create different scenarios on what may be the effect of a (future) change point\n",
    "Non-hierarchical model using jhu data (no regions).\n",
    "\n",
    "Runtime ~ 15 min\n",
    "\n",
    "At the end we also show how to plot with German labels.\n"
   ]
  },
  {
   "cell_type": "code",
   "execution_count": 2,
   "metadata": {},
   "outputs": [],
   "source": [
    "import datetime\n",
    "import copy\n",
    "import sys"
   ]
  },
  {
   "cell_type": "code",
   "execution_count": 3,
   "metadata": {},
   "outputs": [],
   "source": [
    "import pymc as pm\n",
    "import numpy as np\n",
    "import matplotlib as mpl\n",
    "import matplotlib.pyplot as plt"
   ]
  },
  {
   "cell_type": "code",
   "execution_count": 4,
   "metadata": {},
   "outputs": [],
   "source": [
    "try:\n",
    "    import covid19_inference as cov19\n",
    "except ModuleNotFoundError:\n",
    "    sys.path.append(\"../../\")\n",
    "    import covid19_inference as cov19"
   ]
  },
  {
   "cell_type": "code",
   "execution_count": 5,
   "metadata": {},
   "outputs": [],
   "source": [
    "# limit the data range\n",
    "bd = datetime.datetime(2020, 3, 2)\n",
    "ed = datetime.datetime(2020, 5, 14)"
   ]
  },
  {
   "cell_type": "code",
   "execution_count": 6,
   "metadata": {},
   "outputs": [
    {
     "name": "stderr",
     "output_type": "stream",
     "text": [
      "INFO     [covid19_inference.data_retrieval._JHU] Successfully downloaded new files.\n",
      "INFO     [covid19_inference.data_retrieval._JHU] Local backup to ['/tmp/covid19_data/Jhu_confirmed.csv.gz', '/tmp/covid19_data/Jhu_deaths.csv.gz', '/tmp/covid19_data/Jhu_recovered.csv.gz'] successful.\n"
     ]
    }
   ],
   "source": [
    "# download data\n",
    "jhu = cov19.data_retrieval.JHU(auto_download=True)\n",
    "cum_cases = jhu.get_total(country=\"Germany\", data_begin=bd, data_end=ed)\n",
    "new_cases = jhu.get_new(country=\"Germany\", data_begin=bd, data_end=ed)"
   ]
  },
  {
   "cell_type": "code",
   "execution_count": 7,
   "metadata": {},
   "outputs": [],
   "source": [
    "# set model parameters\n",
    "params_model = dict(\n",
    "    new_cases_obs=new_cases,\n",
    "    data_begin=bd,\n",
    "    fcast_len=28,\n",
    "    diff_data_sim=16,\n",
    "    N_population=83e6,\n",
    ")"
   ]
  },
  {
   "cell_type": "code",
   "execution_count": 8,
   "metadata": {},
   "outputs": [],
   "source": [
    "# change points like in the paper\n",
    "cp_base = [\n",
    "    # mild distancing\n",
    "    dict(\n",
    "        # account for new implementation where transients_day is centered, not begin\n",
    "        pr_mean_date_transient=datetime.datetime(2020, 3, 10),\n",
    "        pr_median_transient_len=3,\n",
    "        pr_sigma_transient_len=0.3,\n",
    "        pr_sigma_date_transient=3,\n",
    "        pr_median_lambda=0.2,\n",
    "        pr_sigma_lambda=0.5,\n",
    "    ),\n",
    "    # strong distancing\n",
    "    dict(\n",
    "        pr_mean_date_transient=datetime.datetime(2020, 3, 17),\n",
    "        pr_median_transient_len=3,\n",
    "        pr_sigma_transient_len=0.3,\n",
    "        pr_sigma_date_transient=1,\n",
    "        pr_median_lambda=1 / 8,\n",
    "        pr_sigma_lambda=0.5,\n",
    "    ),\n",
    "    # contact ban\n",
    "    dict(\n",
    "        pr_mean_date_transient=datetime.datetime(2020, 3, 24),\n",
    "        pr_median_transient_len=3,\n",
    "        pr_sigma_transient_len=0.3,\n",
    "        pr_sigma_date_transient=1,\n",
    "        pr_median_lambda=1 / 16,\n",
    "        pr_sigma_lambda=0.5,\n",
    "    ),\n",
    "]"
   ]
  },
  {
   "cell_type": "markdown",
   "metadata": {},
   "source": [
    "\n",
    "\n",
    "Scenarios for May 11, due to ~11 days delay, not evident in data yet\n",
    "Add additional change points with reference to the previous values.\n",
    "\n",
    "We use a value as reference that we inferred in a previous run (as of May 14)"
   ]
  },
  {
   "cell_type": "code",
   "execution_count": 9,
   "metadata": {},
   "outputs": [],
   "source": [
    "ref = 0.10\n",
    "# Median of the prior for the delay in case reporting, we assume 10 days\n",
    "pr_delay = 10"
   ]
  },
  {
   "cell_type": "code",
   "execution_count": 10,
   "metadata": {},
   "outputs": [],
   "source": [
    "# a: double the contacts (this only effectively applies apart from family)\n",
    "cp_a = copy.deepcopy(cp_base)\n",
    "cp_a.append(\n",
    "    dict(\n",
    "        pr_mean_date_transient=datetime.datetime(2020, 5, 12),\n",
    "        pr_sigma_date_transient=1,\n",
    "        pr_median_lambda=ref * 2,\n",
    "        pr_sigma_lambda=0.3,\n",
    "    )\n",
    ")"
   ]
  },
  {
   "cell_type": "code",
   "execution_count": 11,
   "metadata": {},
   "outputs": [],
   "source": [
    "# b: back to pre-lockdown value\n",
    "cp_b = copy.deepcopy(cp_base)\n",
    "cp_b.append(\n",
    "    dict(\n",
    "        pr_mean_date_transient=datetime.datetime(2020, 5, 12),\n",
    "        pr_sigma_date_transient=1,\n",
    "        pr_median_lambda=0.15,\n",
    "        pr_sigma_lambda=0.3,\n",
    "    )\n",
    ")"
   ]
  },
  {
   "cell_type": "code",
   "execution_count": 12,
   "metadata": {},
   "outputs": [],
   "source": [
    "# c: 20% decrease, ideal case, for instance if contact tracing is very effective\n",
    "cp_c = copy.deepcopy(cp_base)\n",
    "cp_c.append(\n",
    "    dict(\n",
    "        pr_mean_date_transient=datetime.datetime(2020, 5, 12),\n",
    "        pr_sigma_date_transient=1,\n",
    "        pr_median_lambda=ref - ref * 0.2,\n",
    "        pr_sigma_lambda=0.3,\n",
    "    )\n",
    ")"
   ]
  },
  {
   "cell_type": "code",
   "execution_count": 13,
   "metadata": {},
   "outputs": [],
   "source": [
    "# we want to create multiple models with the different change points\n",
    "def create_model(change_points, params_model):\n",
    "    with cov19.Cov19Model(**params_model) as this_model:\n",
    "        lambda_t_log = cov19.model.lambda_t_with_sigmoids(\n",
    "            pr_median_lambda_0=0.4,\n",
    "            pr_sigma_lambda_0=0.5,\n",
    "            change_points_list=change_points,\n",
    "            name_lambda_t=\"lambda_t\",\n",
    "        )\n",
    "        mu = pm.Lognormal(name=\"mu\", mu=np.log(1 / 8), sigma=0.2)\n",
    "        new_cases = cov19.model.SIR(lambda_t_log=lambda_t_log, mu=mu)\n",
    "        new_cases = cov19.model.delay_cases(\n",
    "            cases=new_cases,\n",
    "            name_cases=\"delayed_cases\",\n",
    "            pr_mean_of_median=pr_delay,\n",
    "            pr_median_of_width=0.3,\n",
    "        )\n",
    "        new_cases = cov19.model.week_modulation(cases=new_cases, name_cases=\"new_cases\")\n",
    "        cov19.model.student_t_likelihood(cases=new_cases)\n",
    "    return this_model"
   ]
  },
  {
   "cell_type": "code",
   "execution_count": 14,
   "metadata": {},
   "outputs": [
    {
     "name": "stderr",
     "output_type": "stream",
     "text": [
      "INFO     [covid19_inference.model.spreading_rate] Lambda_t with sigmoids\n",
      "INFO     [covid19_inference.model.model] relative_to_previous was set to default value False\n",
      "INFO     [covid19_inference.model.model] pr_factor_to_previous was set to default value 1\n",
      "INFO     [covid19_inference.model.model] relative_to_previous was set to default value False\n",
      "INFO     [covid19_inference.model.model] pr_factor_to_previous was set to default value 1\n",
      "INFO     [covid19_inference.model.model] relative_to_previous was set to default value False\n",
      "INFO     [covid19_inference.model.model] pr_factor_to_previous was set to default value 1\n",
      "INFO     [covid19_inference.model.model] pr_median_transient_len was set to default value 4\n",
      "INFO     [covid19_inference.model.model] pr_sigma_transient_len was set to default value 1\n",
      "INFO     [covid19_inference.model.model] relative_to_previous was set to default value False\n",
      "INFO     [covid19_inference.model.model] pr_factor_to_previous was set to default value 1\n",
      "INFO     [covid19_inference.model.compartmental_models] SIR\n",
      "INFO     [covid19_inference.model.delay] Delaying cases\n",
      "INFO     [covid19_inference.model.week_modulation] Week modulation\n",
      "INFO     [covid19_inference.model.spreading_rate] Lambda_t with sigmoids\n",
      "INFO     [covid19_inference.model.model] relative_to_previous was set to default value False\n",
      "INFO     [covid19_inference.model.model] pr_factor_to_previous was set to default value 1\n",
      "INFO     [covid19_inference.model.model] relative_to_previous was set to default value False\n",
      "INFO     [covid19_inference.model.model] pr_factor_to_previous was set to default value 1\n",
      "INFO     [covid19_inference.model.model] relative_to_previous was set to default value False\n",
      "INFO     [covid19_inference.model.model] pr_factor_to_previous was set to default value 1\n",
      "INFO     [covid19_inference.model.model] pr_median_transient_len was set to default value 4\n",
      "INFO     [covid19_inference.model.model] pr_sigma_transient_len was set to default value 1\n",
      "INFO     [covid19_inference.model.model] relative_to_previous was set to default value False\n",
      "INFO     [covid19_inference.model.model] pr_factor_to_previous was set to default value 1\n",
      "INFO     [covid19_inference.model.compartmental_models] SIR\n",
      "INFO     [covid19_inference.model.delay] Delaying cases\n",
      "INFO     [covid19_inference.model.week_modulation] Week modulation\n",
      "INFO     [covid19_inference.model.spreading_rate] Lambda_t with sigmoids\n",
      "INFO     [covid19_inference.model.model] relative_to_previous was set to default value False\n",
      "INFO     [covid19_inference.model.model] pr_factor_to_previous was set to default value 1\n",
      "INFO     [covid19_inference.model.model] relative_to_previous was set to default value False\n",
      "INFO     [covid19_inference.model.model] pr_factor_to_previous was set to default value 1\n",
      "INFO     [covid19_inference.model.model] relative_to_previous was set to default value False\n",
      "INFO     [covid19_inference.model.model] pr_factor_to_previous was set to default value 1\n",
      "INFO     [covid19_inference.model.model] pr_median_transient_len was set to default value 4\n",
      "INFO     [covid19_inference.model.model] pr_sigma_transient_len was set to default value 1\n",
      "INFO     [covid19_inference.model.model] relative_to_previous was set to default value False\n",
      "INFO     [covid19_inference.model.model] pr_factor_to_previous was set to default value 1\n",
      "INFO     [covid19_inference.model.compartmental_models] SIR\n",
      "INFO     [covid19_inference.model.delay] Delaying cases\n",
      "INFO     [covid19_inference.model.week_modulation] Week modulation\n"
     ]
    }
   ],
   "source": [
    "mod_a = create_model(cp_a, params_model)\n",
    "mod_b = create_model(cp_b, params_model)\n",
    "mod_c = create_model(cp_c, params_model)"
   ]
  },
  {
   "cell_type": "markdown",
   "metadata": {},
   "source": [
    "\n",
    "## engage!\n",
    "Increase tune and/or draws to get better statistics.\n"
   ]
  },
  {
   "cell_type": "code",
   "execution_count": 15,
   "metadata": {},
   "outputs": [
    {
     "name": "stderr",
     "output_type": "stream",
     "text": [
      "Only 200 samples in chain.\n",
      "WARNING  [pymc] Only 200 samples in chain.\n",
      "Auto-assigning NUTS sampler...\n",
      "INFO     [pymc] Auto-assigning NUTS sampler...\n",
      "Initializing NUTS using advi+adapt_diag...\n",
      "INFO     [pymc] Initializing NUTS using advi+adapt_diag...\n"
     ]
    },
    {
     "data": {
      "text/html": [
       "\n",
       "<style>\n",
       "    /* Turns off some styling */\n",
       "    progress {\n",
       "        /* gets rid of default border in Firefox and Opera. */\n",
       "        border: none;\n",
       "        /* Needs to be in here for Safari polyfill so background images work as expected. */\n",
       "        background-size: auto;\n",
       "    }\n",
       "    .progress-bar-interrupted, .progress-bar-interrupted::-webkit-progress-bar {\n",
       "        background: #F44336;\n",
       "    }\n",
       "</style>\n"
      ],
      "text/plain": [
       "<IPython.core.display.HTML object>"
      ]
     },
     "metadata": {},
     "output_type": "display_data"
    },
    {
     "data": {
      "text/html": [
       "\n",
       "    <div>\n",
       "      <progress value='18056' class='' max='200000' style='width:300px; height:20px; vertical-align: middle;'></progress>\n",
       "      9.03% [18056/200000 01:18<13:06 Average Loss = 710.35]\n",
       "    </div>\n",
       "    "
      ],
      "text/plain": [
       "<IPython.core.display.HTML object>"
      ]
     },
     "metadata": {},
     "output_type": "display_data"
    },
    {
     "name": "stderr",
     "output_type": "stream",
     "text": [
      "Convergence achieved at 18100\n",
      "INFO     [pymc.variational.inference] Convergence achieved at 18100\n",
      "Interrupted at 18,099 [9%]: Average Loss = 833.58\n",
      "INFO     [pymc.variational.inference] Interrupted at 18,099 [9%]: Average Loss = 833.58\n",
      "Multiprocess sampling (4 chains in 4 jobs)\n",
      "INFO     [pymc] Multiprocess sampling (4 chains in 4 jobs)\n",
      "NUTS: [lambda_0_log_, lambda_1_log_, lambda_2_log_, lambda_3_log_, lambda_4_log_, transient_day_1, transient_day_2, transient_day_3, transient_day_4, transient_len_1_raw_, transient_len_2_raw_, transient_len_3_raw_, transient_len_4_raw_, mu, I_begin, delay_log, weekend_factor_log, offset_modulation_rad, sigma_obs]\n",
      "INFO     [pymc] NUTS: [lambda_0_log_, lambda_1_log_, lambda_2_log_, lambda_3_log_, lambda_4_log_, transient_day_1, transient_day_2, transient_day_3, transient_day_4, transient_len_1_raw_, transient_len_2_raw_, transient_len_3_raw_, transient_len_4_raw_, mu, I_begin, delay_log, weekend_factor_log, offset_modulation_rad, sigma_obs]\n"
     ]
    },
    {
     "data": {
      "text/html": [
       "\n",
       "<style>\n",
       "    /* Turns off some styling */\n",
       "    progress {\n",
       "        /* gets rid of default border in Firefox and Opera. */\n",
       "        border: none;\n",
       "        /* Needs to be in here for Safari polyfill so background images work as expected. */\n",
       "        background-size: auto;\n",
       "    }\n",
       "    .progress-bar-interrupted, .progress-bar-interrupted::-webkit-progress-bar {\n",
       "        background: #F44336;\n",
       "    }\n",
       "</style>\n"
      ],
      "text/plain": [
       "<IPython.core.display.HTML object>"
      ]
     },
     "metadata": {},
     "output_type": "display_data"
    },
    {
     "data": {
      "text/html": [
       "\n",
       "    <div>\n",
       "      <progress value='1600' class='' max='1600' style='width:300px; height:20px; vertical-align: middle;'></progress>\n",
       "      100.00% [1600/1600 09:32<00:00 Sampling 4 chains, 0 divergences]\n",
       "    </div>\n",
       "    "
      ],
      "text/plain": [
       "<IPython.core.display.HTML object>"
      ]
     },
     "metadata": {},
     "output_type": "display_data"
    },
    {
     "name": "stderr",
     "output_type": "stream",
     "text": [
      "Sampling 4 chains for 200 tune and 200 draw iterations (800 + 800 draws total) took 577 seconds.\n",
      "INFO     [pymc] Sampling 4 chains for 200 tune and 200 draw iterations (800 + 800 draws total) took 577 seconds.\n",
      "Only 200 samples in chain.\n",
      "WARNING  [pymc] Only 200 samples in chain.\n",
      "Auto-assigning NUTS sampler...\n",
      "INFO     [pymc] Auto-assigning NUTS sampler...\n",
      "Initializing NUTS using advi+adapt_diag...\n",
      "INFO     [pymc] Initializing NUTS using advi+adapt_diag...\n"
     ]
    },
    {
     "data": {
      "text/html": [
       "\n",
       "<style>\n",
       "    /* Turns off some styling */\n",
       "    progress {\n",
       "        /* gets rid of default border in Firefox and Opera. */\n",
       "        border: none;\n",
       "        /* Needs to be in here for Safari polyfill so background images work as expected. */\n",
       "        background-size: auto;\n",
       "    }\n",
       "    .progress-bar-interrupted, .progress-bar-interrupted::-webkit-progress-bar {\n",
       "        background: #F44336;\n",
       "    }\n",
       "</style>\n"
      ],
      "text/plain": [
       "<IPython.core.display.HTML object>"
      ]
     },
     "metadata": {},
     "output_type": "display_data"
    },
    {
     "data": {
      "text/html": [
       "\n",
       "    <div>\n",
       "      <progress value='17899' class='' max='200000' style='width:300px; height:20px; vertical-align: middle;'></progress>\n",
       "      8.95% [17899/200000 01:17<13:12 Average Loss = 712.11]\n",
       "    </div>\n",
       "    "
      ],
      "text/plain": [
       "<IPython.core.display.HTML object>"
      ]
     },
     "metadata": {},
     "output_type": "display_data"
    },
    {
     "name": "stderr",
     "output_type": "stream",
     "text": [
      "Convergence achieved at 17900\n",
      "INFO     [pymc.variational.inference] Convergence achieved at 17900\n",
      "Interrupted at 17,899 [8%]: Average Loss = 836.83\n",
      "INFO     [pymc.variational.inference] Interrupted at 17,899 [8%]: Average Loss = 836.83\n",
      "Multiprocess sampling (4 chains in 4 jobs)\n",
      "INFO     [pymc] Multiprocess sampling (4 chains in 4 jobs)\n",
      "NUTS: [lambda_0_log_, lambda_1_log_, lambda_2_log_, lambda_3_log_, lambda_4_log_, transient_day_1, transient_day_2, transient_day_3, transient_day_4, transient_len_1_raw_, transient_len_2_raw_, transient_len_3_raw_, transient_len_4_raw_, mu, I_begin, delay_log, weekend_factor_log, offset_modulation_rad, sigma_obs]\n",
      "INFO     [pymc] NUTS: [lambda_0_log_, lambda_1_log_, lambda_2_log_, lambda_3_log_, lambda_4_log_, transient_day_1, transient_day_2, transient_day_3, transient_day_4, transient_len_1_raw_, transient_len_2_raw_, transient_len_3_raw_, transient_len_4_raw_, mu, I_begin, delay_log, weekend_factor_log, offset_modulation_rad, sigma_obs]\n"
     ]
    },
    {
     "data": {
      "text/html": [
       "\n",
       "<style>\n",
       "    /* Turns off some styling */\n",
       "    progress {\n",
       "        /* gets rid of default border in Firefox and Opera. */\n",
       "        border: none;\n",
       "        /* Needs to be in here for Safari polyfill so background images work as expected. */\n",
       "        background-size: auto;\n",
       "    }\n",
       "    .progress-bar-interrupted, .progress-bar-interrupted::-webkit-progress-bar {\n",
       "        background: #F44336;\n",
       "    }\n",
       "</style>\n"
      ],
      "text/plain": [
       "<IPython.core.display.HTML object>"
      ]
     },
     "metadata": {},
     "output_type": "display_data"
    },
    {
     "data": {
      "text/html": [
       "\n",
       "    <div>\n",
       "      <progress value='1600' class='' max='1600' style='width:300px; height:20px; vertical-align: middle;'></progress>\n",
       "      100.00% [1600/1600 07:04<00:00 Sampling 4 chains, 0 divergences]\n",
       "    </div>\n",
       "    "
      ],
      "text/plain": [
       "<IPython.core.display.HTML object>"
      ]
     },
     "metadata": {},
     "output_type": "display_data"
    },
    {
     "name": "stderr",
     "output_type": "stream",
     "text": [
      "Sampling 4 chains for 200 tune and 200 draw iterations (800 + 800 draws total) took 429 seconds.\n",
      "INFO     [pymc] Sampling 4 chains for 200 tune and 200 draw iterations (800 + 800 draws total) took 429 seconds.\n",
      "Only 200 samples in chain.\n",
      "WARNING  [pymc] Only 200 samples in chain.\n",
      "Auto-assigning NUTS sampler...\n",
      "INFO     [pymc] Auto-assigning NUTS sampler...\n",
      "Initializing NUTS using advi+adapt_diag...\n",
      "INFO     [pymc] Initializing NUTS using advi+adapt_diag...\n"
     ]
    },
    {
     "data": {
      "text/html": [
       "\n",
       "<style>\n",
       "    /* Turns off some styling */\n",
       "    progress {\n",
       "        /* gets rid of default border in Firefox and Opera. */\n",
       "        border: none;\n",
       "        /* Needs to be in here for Safari polyfill so background images work as expected. */\n",
       "        background-size: auto;\n",
       "    }\n",
       "    .progress-bar-interrupted, .progress-bar-interrupted::-webkit-progress-bar {\n",
       "        background: #F44336;\n",
       "    }\n",
       "</style>\n"
      ],
      "text/plain": [
       "<IPython.core.display.HTML object>"
      ]
     },
     "metadata": {},
     "output_type": "display_data"
    },
    {
     "data": {
      "text/html": [
       "\n",
       "    <div>\n",
       "      <progress value='19670' class='' max='200000' style='width:300px; height:20px; vertical-align: middle;'></progress>\n",
       "      9.84% [19670/200000 01:24<12:59 Average Loss = 704.6]\n",
       "    </div>\n",
       "    "
      ],
      "text/plain": [
       "<IPython.core.display.HTML object>"
      ]
     },
     "metadata": {},
     "output_type": "display_data"
    },
    {
     "name": "stderr",
     "output_type": "stream",
     "text": [
      "Convergence achieved at 19700\n",
      "INFO     [pymc.variational.inference] Convergence achieved at 19700\n",
      "Interrupted at 19,699 [9%]: Average Loss = 818.91\n",
      "INFO     [pymc.variational.inference] Interrupted at 19,699 [9%]: Average Loss = 818.91\n",
      "Multiprocess sampling (4 chains in 4 jobs)\n",
      "INFO     [pymc] Multiprocess sampling (4 chains in 4 jobs)\n",
      "NUTS: [lambda_0_log_, lambda_1_log_, lambda_2_log_, lambda_3_log_, lambda_4_log_, transient_day_1, transient_day_2, transient_day_3, transient_day_4, transient_len_1_raw_, transient_len_2_raw_, transient_len_3_raw_, transient_len_4_raw_, mu, I_begin, delay_log, weekend_factor_log, offset_modulation_rad, sigma_obs]\n",
      "INFO     [pymc] NUTS: [lambda_0_log_, lambda_1_log_, lambda_2_log_, lambda_3_log_, lambda_4_log_, transient_day_1, transient_day_2, transient_day_3, transient_day_4, transient_len_1_raw_, transient_len_2_raw_, transient_len_3_raw_, transient_len_4_raw_, mu, I_begin, delay_log, weekend_factor_log, offset_modulation_rad, sigma_obs]\n"
     ]
    },
    {
     "data": {
      "text/html": [
       "\n",
       "<style>\n",
       "    /* Turns off some styling */\n",
       "    progress {\n",
       "        /* gets rid of default border in Firefox and Opera. */\n",
       "        border: none;\n",
       "        /* Needs to be in here for Safari polyfill so background images work as expected. */\n",
       "        background-size: auto;\n",
       "    }\n",
       "    .progress-bar-interrupted, .progress-bar-interrupted::-webkit-progress-bar {\n",
       "        background: #F44336;\n",
       "    }\n",
       "</style>\n"
      ],
      "text/plain": [
       "<IPython.core.display.HTML object>"
      ]
     },
     "metadata": {},
     "output_type": "display_data"
    },
    {
     "data": {
      "text/html": [
       "\n",
       "    <div>\n",
       "      <progress value='1600' class='' max='1600' style='width:300px; height:20px; vertical-align: middle;'></progress>\n",
       "      100.00% [1600/1600 09:46<00:00 Sampling 4 chains, 0 divergences]\n",
       "    </div>\n",
       "    "
      ],
      "text/plain": [
       "<IPython.core.display.HTML object>"
      ]
     },
     "metadata": {},
     "output_type": "display_data"
    },
    {
     "name": "stderr",
     "output_type": "stream",
     "text": [
      "Sampling 4 chains for 200 tune and 200 draw iterations (800 + 800 draws total) took 591 seconds.\n",
      "INFO     [pymc] Sampling 4 chains for 200 tune and 200 draw iterations (800 + 800 draws total) took 591 seconds.\n",
      "The acceptance probability does not match the target. It is 0.8923, but should be close to 0.8. Try to increase the number of tuning steps.\n",
      "WARNING  [pymc] The acceptance probability does not match the target. It is 0.8923, but should be close to 0.8. Try to increase the number of tuning steps.\n"
     ]
    }
   ],
   "source": [
    "tr_a = pm.sample(model=mod_a, tune=200, draws=200, init=\"advi+adapt_diag\")\n",
    "tr_b = pm.sample(model=mod_b, tune=200, draws=200, init=\"advi+adapt_diag\")\n",
    "tr_c = pm.sample(model=mod_c, tune=200, draws=200, init=\"advi+adapt_diag\")"
   ]
  },
  {
   "cell_type": "markdown",
   "metadata": {},
   "source": [
    "## Plotting"
   ]
  },
  {
   "cell_type": "code",
   "execution_count": 76,
   "metadata": {},
   "outputs": [],
   "source": [
    "%%capture\n",
    "fig, axes = cov19.plot.timeseries_overview(\n",
    "    mod_a,\n",
    "    tr_a,\n",
    "    offset=cum_cases[0],\n",
    "    forecast_label=\"Pessimistic\",\n",
    "    forecast_heading=r\"$\\bf Scenarios\\!:$\",\n",
    "    add_more_later=True,\n",
    "    color=\"tab:red\",\n",
    ")\n",
    "axes[1].set_ylim(0,8000)"
   ]
  },
  {
   "cell_type": "code",
   "execution_count": 38,
   "metadata": {},
   "outputs": [],
   "source": [
    "fig, axes = cov19.plot.timeseries_overview(\n",
    "    mod_b,\n",
    "    tr_b,\n",
    "    axes=axes,\n",
    "    offset=cum_cases[0],\n",
    "    forecast_label=\"Neutral\",\n",
    "    color=\"tab:orange\",\n",
    ")"
   ]
  },
  {
   "cell_type": "code",
   "execution_count": 39,
   "metadata": {},
   "outputs": [
    {
     "data": {
      "image/png": "[encoded data removed]",
      "text/plain": [
       "<Figure size 432x432 with 3 Axes>"
      ]
     },
     "execution_count": 39,
     "metadata": {},
     "output_type": "execute_result"
    }
   ],
   "source": [
    "fig, axes = cov19.plot.timeseries_overview(\n",
    "    mod_c,\n",
    "    tr_c,\n",
    "    axes=axes,\n",
    "    offset=cum_cases[0],\n",
    "    forecast_label=\"Optimistic\",\n",
    "    color=\"tab:green\",\n",
    ")\n",
    "fig"
   ]
  }
 ],
 "metadata": {
  "kernelspec": {
   "display_name": "Python 3 (ipykernel)",
   "language": "python",
   "name": "python3"
  },
  "language_info": {
   "codemirror_mode": {
    "name": "ipython",
    "version": 3
   },
   "file_extension": ".py",
   "mimetype": "text/x-python",
   "name": "python",
   "nbconvert_exporter": "python",
   "pygments_lexer": "ipython3",
   "version": "3.10.5"
  }
 },
 "nbformat": 4,
 "nbformat_minor": 4
}
