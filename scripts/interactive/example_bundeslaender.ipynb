{
 "cells": [
  {
   "cell_type": "markdown",
   "metadata": {},
   "source": [
    "[![Open In Colab](https://colab.research.google.com/assets/colab-badge.svg)]((https://colab.research.google.com/github/Priesemann-Group/covid19_inference/blob/master/scripts/interactive/example_bundeslaender.ipynb)"
   ]
  },
  {
   "cell_type": "code",
   "execution_count": null,
   "metadata": {},
   "outputs": [],
   "source": [
    "!pip install covid19_inference"
   ]
  },
  {
   "cell_type": "markdown",
   "metadata": {},
   "source": [
    "# Hierarchical Bayesian Model for all German states (Bundeslaender).\n",
    "\n",
    "**Caution this notebook might be broken!!**\n",
    "\n",
    "Runtime ~ 1h\n",
    "\n",
    "This notebook is using experimental features of our package to construct\n",
    "a hierachical model.\n",
    "\n",
    "## Importing modules\n"
   ]
  },
  {
   "cell_type": "code",
   "execution_count": 1,
   "metadata": {},
   "outputs": [],
   "source": [
    "import datetime\n",
    "import sys\n",
    "import pandas as pd\n",
    "import numpy as np\n",
    "import matplotlib as mpl\n",
    "import matplotlib.pyplot as plt\n",
    "import scipy.stats\n",
    "import pymc as pm"
   ]
  },
  {
   "cell_type": "code",
   "execution_count": 2,
   "metadata": {},
   "outputs": [],
   "source": [
    "try:\n",
    "    import covid19_inference as cov19\n",
    "except ModuleNotFoundError:\n",
    "    sys.path.append(\"../../\")\n",
    "    import covid19_inference as cov19"
   ]
  },
  {
   "cell_type": "markdown",
   "metadata": {},
   "source": [
    "\n",
    "\n",
    "## Creating the model\n",
    "\n",
    "This cell downloads data and builds the pymc model for the Bayesian inference.\n",
    "More information can be found in the\n",
    "[documentation](https://covid19-inference.readthedocs.io/en/latest/doc/gettingstarted.html).\n"
   ]
  },
  {
   "cell_type": "code",
   "execution_count": 3,
   "metadata": {},
   "outputs": [],
   "source": [
    "# Dates to obtain the data from\n",
    "date_begin_data = datetime.datetime(2020, 3, 10)\n",
    "date_end_data = datetime.datetime(2020, 4, 19)"
   ]
  },
  {
   "cell_type": "code",
   "execution_count": 4,
   "metadata": {},
   "outputs": [
    {
     "name": "stderr",
     "output_type": "stream",
     "text": [
      "INFO     [covid19_inference.data_retrieval.retrieval] Successfully loaded Rki.csv.gz from /tmp/covid19_data/, skipping download.\n"
     ]
    }
   ],
   "source": [
    "# Downloads 2-D array of new cases (for each state) from the Robert Koch Institute\n",
    "rki = cov19.data_retrieval.RKI(True)\n",
    "df_bundeslaender = rki.filter_all_bundesland(date_begin_data, date_end_data)\n",
    "new_cases_obs = np.diff(np.array(df_bundeslaender), axis=0)[:, :]"
   ]
  },
  {
   "cell_type": "code",
   "execution_count": 5,
   "metadata": {},
   "outputs": [],
   "source": [
    "# 1D array of state population, ordered alphabetically\n",
    "N_state = [\n",
    "    10880000,\n",
    "    12844000,\n",
    "    3520000,\n",
    "    2485000,\n",
    "    671000,\n",
    "    1787000,\n",
    "    6176000,\n",
    "    7927000,\n",
    "    1612000,\n",
    "    17865000,\n",
    "    4053000,\n",
    "    996000,\n",
    "    4085000,\n",
    "    2245000,\n",
    "    2859000,\n",
    "    2171000,\n",
    "]"
   ]
  },
  {
   "cell_type": "code",
   "execution_count": 6,
   "metadata": {},
   "outputs": [],
   "source": [
    "# Number of days the simulation starts earlier than the data.\n",
    "# Should be significantly larger than the expected delay in order to always fit the same number of data points.\n",
    "diff_data_sim = 16\n",
    "# Number of days in the future (after date_end_data) to forecast cases\n",
    "num_days_forecast = 10"
   ]
  },
  {
   "cell_type": "code",
   "execution_count": 7,
   "metadata": {},
   "outputs": [],
   "source": [
    "# Change point midpoint dates\n",
    "prior_date_mild_dist_begin = datetime.datetime(2020, 3, 11)\n",
    "prior_date_strong_dist_begin = datetime.datetime(2020, 3, 18)\n",
    "prior_date_contact_ban_begin = datetime.datetime(2020, 3, 25)"
   ]
  },
  {
   "cell_type": "code",
   "execution_count": 8,
   "metadata": {},
   "outputs": [],
   "source": [
    "# Structures change points in a dict. Variables not passed will assume default values.\n",
    "change_points = [\n",
    "    dict(\n",
    "        pr_mean_date_transient=prior_date_mild_dist_begin,\n",
    "        pr_sigma_date_transient=1.5,\n",
    "        pr_median_lambda=0.2,\n",
    "        pr_sigma_lambda=0.5,\n",
    "        pr_sigma_transient_len=0.5,\n",
    "    ),\n",
    "    dict(\n",
    "        pr_mean_date_transient=prior_date_strong_dist_begin,\n",
    "        pr_sigma_date_transient=1.5,\n",
    "        pr_median_lambda=1 / 8,\n",
    "        pr_sigma_lambda=0.5,\n",
    "        pr_sigma_transient_len=0.5,\n",
    "    ),\n",
    "    dict(\n",
    "        pr_mean_date_transient=prior_date_contact_ban_begin,\n",
    "        pr_sigma_date_transient=1.5,\n",
    "        pr_median_lambda=1 / 8 / 2,\n",
    "        pr_sigma_lambda=0.5,\n",
    "        pr_sigma_transient_len=0.5,\n",
    "    ),\n",
    "]"
   ]
  },
  {
   "cell_type": "code",
   "execution_count": 9,
   "metadata": {},
   "outputs": [],
   "source": [
    "# Stores the model parameters in a dict\n",
    "params_model = dict(\n",
    "    new_cases_obs=new_cases_obs[:],\n",
    "    data_begin=date_begin_data,\n",
    "    fcast_len=num_days_forecast,\n",
    "    diff_data_sim=diff_data_sim,\n",
    "    N_population=N_state,\n",
    ")\n",
    "# Median of the prior for the delay in case reporting, we assume 10 days\n",
    "pr_delay = 10"
   ]
  },
  {
   "cell_type": "code",
   "execution_count": 10,
   "metadata": {},
   "outputs": [
    {
     "name": "stderr",
     "output_type": "stream",
     "text": [
      "INFO     [covid19_inference.model.spreading_rate.lambda_t_with_sigmoids] Lambda_t with sigmoids\n",
      "INFO     [covid19_inference.model.utility] pr_median_transient_len was set to default value 4\n",
      "INFO     [covid19_inference.model.utility] relative_to_previous was set to default value False\n",
      "INFO     [covid19_inference.model.utility] pr_factor_to_previous was set to default value 1\n",
      "INFO     [covid19_inference.model.utility] pr_median_transient_len was set to default value 4\n",
      "INFO     [covid19_inference.model.utility] relative_to_previous was set to default value False\n",
      "INFO     [covid19_inference.model.utility] pr_factor_to_previous was set to default value 1\n",
      "INFO     [covid19_inference.model.utility] pr_median_transient_len was set to default value 4\n",
      "INFO     [covid19_inference.model.utility] relative_to_previous was set to default value False\n",
      "INFO     [covid19_inference.model.utility] pr_factor_to_previous was set to default value 1\n",
      "INFO     [covid19_inference.model.compartmental_models.uncorrelated_priors] Compartmental Model (Uncorrelated prior I)\n",
      "INFO     [covid19_inference.model.compartmental_models.SIR] Compartmental Model (SIR)\n",
      "INFO     [covid19_inference.model.delay] Delaying cases\n",
      "INFO     [covid19_inference.model.week_modulation] Week modulation (absolute sine)\n",
      "INFO     [covid19_inference.model.likelihood] StudentT likelihood\n"
     ]
    }
   ],
   "source": [
    "# The true model is defined in a context manager.\n",
    "# Check https://docs.pymc.io/notebooks/getting_started.html for details on it.\n",
    "with cov19.model.Cov19Model(**params_model) as this_model:\n",
    "\n",
    "    # Create the array of the time dependent infection rate lambda\n",
    "    lambda_t_log = cov19.model.lambda_t_with_sigmoids(\n",
    "        pr_median_lambda_0=0.4,\n",
    "        pr_sigma_lambda_0=0.5,\n",
    "        change_points_list=change_points,\n",
    "        name_lambda_t=\"lambda_t\",  # Name for the variable in the trace (see later)\n",
    "    )\n",
    "\n",
    "    # Adds the recovery rate mu to the model as a random variable\n",
    "    mu = pm.LogNormal(name=\"mu\", mu=np.log(1 / 8), sigma=0.2)\n",
    "\n",
    "    # This builds a decorrelated prior for I_begin for faster inference. It is not\n",
    "    # necessary to use it, one can simply remove it and use the default argument for\n",
    "    # pr_I_begin in cov19.SIR\n",
    "    I_begin = cov19.model.uncorrelated_prior_I(\n",
    "        lambda_t_log=lambda_t_log, mu=mu, pr_median_delay=pr_delay\n",
    "    )\n",
    "\n",
    "    # Use lambda_t_log and mu as parameters for the SIR model.\n",
    "    # The SIR model generates the inferred new daily cases.\n",
    "    new_cases = cov19.model.SIR(lambda_t_log=lambda_t_log, mu=mu, I_begin=I_begin)\n",
    "\n",
    "    # Delay the cases by a lognormal reporting delay and add them as a trace variable\n",
    "    new_cases = cov19.model.delay_cases(\n",
    "        cases=new_cases,\n",
    "        delay_kernel=\"lognormal\",\n",
    "        median_delay_kwargs={\n",
    "            \"name\": \"delay\",\n",
    "            \"mu\": np.log(pr_delay),\n",
    "            \"sigma\": 0.3,\n",
    "        },\n",
    "    )\n",
    "\n",
    "    # Modulate the inferred cases by a abs(sin(x)) function, to account for weekend effects\n",
    "    # Also adds the \"new_cases\" variable to the trace that has all model features.\n",
    "    new_cases = cov19.model.week_modulation(\n",
    "        cases=new_cases,\n",
    "        week_modulation_type=\"abs_sine\",\n",
    "    )\n",
    "    pm.Deterministic(\"new_cases\", new_cases)\n",
    "\n",
    "    # Define the likelihood, uses the new_cases_obs set as model parameter\n",
    "    cov19.model.student_t_likelihood(cases=new_cases)"
   ]
  },
  {
   "cell_type": "markdown",
   "metadata": {},
   "source": [
    "\n",
    "\n",
    "## MCMC sampling\n",
    "\n",
    "After the model is built, it is sampled using an MCMC sampler.\n",
    "The number of parallel runs can be set with the argument `cores=`.\n",
    "In particular, due to a bug in Theano, Windows users should set `cores=1`.\n",
    "The sampling can take a long time.\n"
   ]
  },
  {
   "cell_type": "code",
   "execution_count": null,
   "metadata": {},
   "outputs": [],
   "source": [
    "idata = pm.sample(model=this_model, tune=1000, draws=1000, init=\"advi+adapt_diag\")"
   ]
  },
  {
   "cell_type": "markdown",
   "metadata": {},
   "source": [
    "\n",
    "\n",
    "# Plotting\n",
    "\n",
    "We below plot the posterior distributions of selected parameters,\n",
    "and the resulting number of cases for each state.\n",
    "\n",
    "### Variables\n",
    "\n",
    "The model uses a large number of parameters, and internally creates new versions\n",
    "(e.g. var_log_) for handling. All defined parameters can be found in\n",
    "`trace.varnames`, and the corresponding traces are found in `trace[varname]`.\n",
    "\n",
    "### Violin plots\n"
   ]
  },
  {
   "cell_type": "code",
   "execution_count": null,
   "metadata": {},
   "outputs": [],
   "source": [
    "# Defines plotted variables, their names and plotting range\n",
    "var_names = {\n",
    "    \"I_begin\": {\"name\": r\"$I_0$\", \"xlim\": [0, 300]},\n",
    "    \"lambda_0_hc_L2\": {\"name\": r\"$\\lambda_0$\", \"xlim\": [0, 1]},\n",
    "    \"lambda_1_hc_L2\": {\"name\": r\"$\\lambda_1$\", \"xlim\": [0, 1]},\n",
    "    \"lambda_2_hc_L2\": {\"name\": r\"$\\lambda_2$\", \"xlim\": [0, 1]},\n",
    "    \"lambda_3_hc_L2\": {\"name\": r\"$\\lambda_3$\", \"xlim\": [0, 1]},\n",
    "    \"transient_day_1_hc_L2\": {\"name\": r\"$t_1$\", \"xlim\": [10, 40]},\n",
    "    \"transient_day_2_hc_L2\": {\"name\": r\"$t_2$\", \"xlim\": [10, 40]},\n",
    "    \"transient_day_3_hc_L2\": {\"name\": r\"$t_3$\", \"xlim\": [30, 60]},\n",
    "}"
   ]
  },
  {
   "cell_type": "code",
   "execution_count": null,
   "metadata": {},
   "outputs": [],
   "source": [
    "# Plots violin plots\n",
    "for var_name in var_names.keys():\n",
    "    f, ax = plt.subplots()\n",
    "    posterior_samples = cov19.plot.utils.get_array_from_idata(idata, var_name)\n",
    "    ax.violinplot(posterior_samples, showextrema=False, vert=False, showmedians=True)\n",
    "    ax.set_yticks(np.arange(1, 17))\n",
    "    ax.set_yticklabels(df_bundeslaender.columns)\n",
    "    ax.set_xlabel(var_names[var_name][\"name\"])\n",
    "    ax.set_xlim(var_names[var_name][\"xlim\"])\n",
    "\"\"\"\n",
    "    ### Timeseries\n",
    "    For every region (bundesland) we create a timeseries plot. For now new cases! TODO more\n",
    "\"\"\""
   ]
  },
  {
   "cell_type": "code",
   "execution_count": null,
   "metadata": {},
   "outputs": [],
   "source": [
    "# First define the x range on which we want to plot. Should be within the simulation period.\n",
    "bd = datetime.datetime(2020, 3, 10)\n",
    "ed = datetime.datetime(2020, 4, 19) + datetime.timedelta(days=num_days_forecast - 1)"
   ]
  },
  {
   "cell_type": "code",
   "execution_count": null,
   "metadata": {},
   "outputs": [],
   "source": [
    "# Next we have to get our trace corresponding to that date range. We do that by calling the helper function `cov19.plot._get_array_from_trace_via_date()`.\n",
    "y_all_regions, x = cov19.plot.utils.get_array_from_idata_via_date(\n",
    "    this_model, idata, \"new_cases\", bd, ed\n",
    ")"
   ]
  },
  {
   "cell_type": "code",
   "execution_count": null,
   "metadata": {},
   "outputs": [],
   "source": [
    "# After retrieving the trace var for our specified time period, we plot the timeseries for each region. Additionaly we set the format of the date (x-)axis.\n",
    "# We have 16 regions in this example -> we create 16 subplots\n",
    "fig, axes = plt.subplots(16, 1, figsize=(10, 35), gridspec_kw={\"hspace\": 0.5})"
   ]
  },
  {
   "cell_type": "code",
   "execution_count": null,
   "metadata": {},
   "outputs": [],
   "source": [
    "for i in range(16):\n",
    "    y = y_all_regions[:, :, i]\n",
    "    cov19.plot.timeseries._timeseries(x, y, axes[i], what=\"fcast\")\n",
    "    axes[i].set_title(df_bundeslaender.columns[i])\n",
    "    # cov19.plot._format_date_xticks(axes[i])"
   ]
  },
  {
   "cell_type": "code",
   "execution_count": null,
   "metadata": {},
   "outputs": [],
   "source": [
    "# Furthermore, we can plot our observable i.e. our new_cases_obs.\n",
    "x_dat = pd.date_range(this_model.data_begin, this_model.data_end)\n",
    "for i in range(16):\n",
    "    y = new_cases_obs[:, i]\n",
    "    cov19.plot.timeseries._timeseries(x_dat, y, axes[i], what=\"data\", lw=0)"
   ]
  },
  {
   "cell_type": "code",
   "execution_count": null,
   "metadata": {},
   "outputs": [],
   "source": [
    "# plt.tight_layout()\n",
    "fig  # To show figure in jupyter notebook"
   ]
  }
 ],
 "metadata": {
  "kernelspec": {
   "display_name": "Python 3 (ipykernel)",
   "language": "python",
   "name": "python3"
  },
  "language_info": {
   "codemirror_mode": {
    "name": "ipython",
    "version": 3
   },
   "file_extension": ".py",
   "mimetype": "text/x-python",
   "name": "python",
   "nbconvert_exporter": "python",
   "pygments_lexer": "ipython3",
   "version": "3.10.8"
  }
 },
 "nbformat": 4,
 "nbformat_minor": 4
}
